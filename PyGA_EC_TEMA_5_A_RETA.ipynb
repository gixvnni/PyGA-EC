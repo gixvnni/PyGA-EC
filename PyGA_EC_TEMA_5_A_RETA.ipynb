{
  "nbformat": 4,
  "nbformat_minor": 0,
  "metadata": {
    "colab": {
      "provenance": [],
      "authorship_tag": "ABX9TyODGVwkSuqnmQGgeA0kdsOU",
      "include_colab_link": true
    },
    "kernelspec": {
      "name": "python3",
      "display_name": "Python 3"
    },
    "language_info": {
      "name": "python"
    }
  },
  "cells": [
    {
      "cell_type": "markdown",
      "metadata": {
        "id": "view-in-github",
        "colab_type": "text"
      },
      "source": [
        "<a href=\"https://colab.research.google.com/github/gixvnni/PyGA-EC/blob/main/PyGA_EC_TEMA_5_A_RETA.ipynb\" target=\"_parent\"><img src=\"https://colab.research.google.com/assets/colab-badge.svg\" alt=\"Open In Colab\"/></a>"
      ]
    },
    {
      "cell_type": "markdown",
      "source": [
        "#Tema 5 - A Reta - Introdução - Resolução em Python"
      ],
      "metadata": {
        "id": "S0MQSiYoqZoJ"
      }
    },
    {
      "cell_type": "markdown",
      "source": [
        "##Aplicação Geral\n",
        "\n",
        "\n",
        "O estudo da reta é um dos pilares fundamentais da geometria analítica e desempenha um papel essencial na engenharia civil, onde é frequentemente utilizado para modelar elementos estruturais, trajetórias e alinhamentos. A reta pode ser representada por equações vetoriais, paramétricas ou implícitas, permitindo a descrição precisa de suas propriedades, como direção, inclinação e posição relativa a outros elementos geométricos.\n",
        "\n",
        "Na engenharia civil, esse estudo é aplicado na análise de alinhamentos em projetos de infraestrutura, como rodovias, ferrovias e redes de tubulações. Também é utilizado no cálculo de interseções entre retas e planos, fundamentais no posicionamento de pilares e vigas, além de auxiliar na otimização de trajetórias de guindastes e equipamentos de construção. O estudo da reta fornece as bases para o entendimento de relações geométricas, essenciais para garantir precisão e eficiência nos projetos.\n",
        "\n",
        "\n",
        "\n",
        "##Definição Matemática"
      ],
      "metadata": {
        "id": "Qwux1tjDMGEr"
      }
    },
    {
      "cell_type": "code",
      "source": [
        "#Determinação da equação vetorial da reta:\n",
        "\n",
        "def equacao_vetorial(ponto, vetor_direcao):\n",
        "\n",
        "# ponto é uma tupla representando as coordenadas (x1, y1, z1)\n",
        "# vetor_direcao é uma tupla representando as coordenadas (a, b, c)\n",
        "\n",
        "# Função para formatar a equação vetorial\n",
        "    def formatar_equacao(x, y, z):\n",
        "        return f\"(x, y, z) = ({ponto[0]}, {ponto[1]}, {ponto[2]}) + t({vetor_direcao[0]}, {vetor_direcao[1]}, {vetor_direcao[2]})\"\n",
        "\n",
        "# Calculando as coordenadas x, y, z da equação vetorial\n",
        "    x = f\"{ponto[0]} + t * {vetor_direcao[0]}\"\n",
        "    y = f\"{ponto[1]} + t * {vetor_direcao[1]}\"\n",
        "    z = f\"{ponto[2]} + t * {vetor_direcao[2]}\"\n",
        "\n",
        "    return formatar_equacao(x, y, z)\n",
        "\n",
        "# Pontos fornecidos\n",
        "ponto_passagem = (2, 3, 2)\n",
        "vetor_direcao = (1, -1, 4)\n",
        "\n",
        "# Calculando e exibindo a equação vetorial da reta:\n",
        "\n",
        "equacao = equacao_vetorial(ponto_passagem, vetor_direcao)\n",
        "print(\"Equação vetorial da reta:\")\n",
        "print(equacao)"
      ],
      "metadata": {
        "id": "mh5oSS4Bx0zv",
        "colab": {
          "base_uri": "https://localhost:8080/"
        },
        "outputId": "7b8f3eb5-6c75-4620-b017-7ebace453a08"
      },
      "execution_count": null,
      "outputs": [
        {
          "output_type": "stream",
          "name": "stdout",
          "text": [
            "Equação vetorial da reta:\n",
            "(x, y, z) = (2, 3, 2) + t(1, -1, 4)\n"
          ]
        }
      ]
    },
    {
      "cell_type": "code",
      "source": [
        "#Determinação da paramétrica da reta e determinação do coeficiente d:\n",
        "\n",
        "def equacoes_parametricas(ponto, vetor_direcao):\n",
        "    # ponto é uma tupla representando as coordenadas (x1, y1, z1)\n",
        "    # vetor_direcao é uma tupla representando as coordenadas (a, b, c)\n",
        "\n",
        "    # Equações paramétricas\n",
        "    x = f\"{ponto[0]} + t * {vetor_direcao[0]}\"\n",
        "    y = f\"{ponto[1]} + t * {vetor_direcao[1]}\"\n",
        "    z = f\"{ponto[2]} + t * {vetor_direcao[2]}\"\n",
        "\n",
        "    return x, y, z\n",
        "\n",
        "# Pontos fornecidos\n",
        "ponto_passagem = (2, 3, -4)\n",
        "vetor_direcao = (1, -2, 3)\n",
        "\n",
        "# Equações paramétricas da reta\n",
        "x_param, y_param, z_param = equacoes_parametricas(ponto_passagem, vetor_direcao)\n",
        "print(\"a) Equações paramétricas da reta:\")\n",
        "print(f\"x = {x_param}, y = {y_param}, z = {z_param}\")\n",
        "\n",
        "def ponto_na_reta(ponto, vetor_direcao, t):\n",
        "    # Encontrar o ponto na reta para o parâmetro t dado\n",
        "    x = ponto[0] + t * vetor_direcao[0]\n",
        "    y = ponto[1] + t * vetor_direcao[1]\n",
        "    z = ponto[2] + t * vetor_direcao[2]\n",
        "\n",
        "    return x, y, z\n",
        "\n",
        "# Pontos fornecidos\n",
        "ponto_passagem = (2, 3, -4)\n",
        "vetor_direcao = (1, -2, 3)\n",
        "\n",
        "# Parâmetro t\n",
        "t = 1\n",
        "\n",
        "# Encontrar o ponto na reta para o parâmetro t dado\n",
        "ponto_t = ponto_na_reta(ponto_passagem, vetor_direcao, t)\n",
        "print(f\"b) Ponto na reta para t = {t}: {ponto_t}\")"
      ],
      "metadata": {
        "id": "1mZhluOvx_E9"
      },
      "execution_count": null,
      "outputs": []
    },
    {
      "cell_type": "code",
      "source": [
        "#Determinação das equações simétricas da reta:\n",
        "\n",
        "def equacoes_simetricas_da_reta(ponto, vetor_diretor):\n",
        "    # Extrai as coordenadas do ponto e do vetor diretor\n",
        "    x0, y0, z0 = ponto\n",
        "    a, b, c = vetor_diretor\n",
        "\n",
        "# Equações simétricas da reta (fórmula):\n",
        "\n",
        "# (x - x0) / a = (y - y0) / b = (z - z0) / c\n",
        "\n",
        "# Realiza o jogo de sinais caso uma das coordenadas seja negativa:\n",
        "\n",
        "    if a < 0:\n",
        "        x0 *= -1\n",
        "        a *= -1\n",
        "    if b < 0:\n",
        "        y0 *= -1\n",
        "        b *= -1\n",
        "    if c < 0:\n",
        "        z0 *= -1\n",
        "        c *= -1\n",
        "\n",
        "    # Simplifica as equações simétricas\n",
        "    equacoes_simetricas = []\n",
        "    if a != 0:\n",
        "        equacoes_simetricas.append(f\"(x - {x0}) / {a}\")\n",
        "    if b != 0:\n",
        "        equacoes_simetricas.append(f\"(y - {y0}) / {b}\")\n",
        "    if c != 0:\n",
        "        equacoes_simetricas.append(f\"(z - {z0}) / {c}\")\n",
        "\n",
        "    return equacoes_simetricas\n",
        "\n",
        "# Ponto A e vetor diretor v\n",
        "ponto_A = (3, 0, -5)\n",
        "vetor_v = (2, 2, -1)\n",
        "\n",
        "# Calcula as equações simétricas da reta\n",
        "equacoes_simetricas = equacoes_simetricas_da_reta(ponto_A, vetor_v)\n",
        "\n",
        "# Imprime as equações simétricas\n",
        "print(\"Equações simétricas da reta:\")\n",
        "for i, eq in enumerate(equacoes_simetricas):\n",
        "    if i != len(equacoes_simetricas) - 1:\n",
        "        print(eq, end=\" = \")\n",
        "    else:\n",
        "        print(eq, end=\"\")"
      ],
      "metadata": {
        "id": "rgc-23rryEaE"
      },
      "execution_count": null,
      "outputs": []
    }
  ]
}