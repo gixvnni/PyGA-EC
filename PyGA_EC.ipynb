{
  "nbformat": 4,
  "nbformat_minor": 0,
  "metadata": {
    "colab": {
      "provenance": [],
      "toc_visible": true,
      "collapsed_sections": [
        "btUTPttjZXSF"
      ],
      "include_colab_link": true
    },
    "kernelspec": {
      "name": "python3",
      "display_name": "Python 3"
    },
    "language_info": {
      "name": "python"
    }
  },
  "cells": [
    {
      "cell_type": "markdown",
      "metadata": {
        "id": "view-in-github",
        "colab_type": "text"
      },
      "source": [
        "<a href=\"https://colab.research.google.com/github/gixvnni/PyGA-EC./blob/main/PyGA_EC.ipynb\" target=\"_parent\"><img src=\"https://colab.research.google.com/assets/colab-badge.svg\" alt=\"Open In Colab\"/></a>"
      ]
    },
    {
      "cell_type": "markdown",
      "source": [
        "Repositório G.A. - Engenharia_Civil"
      ],
      "metadata": {
        "id": "vW8ftIlCdBIy"
      }
    },
    {
      "cell_type": "markdown",
      "source": [
        "## Projeto 1:\n",
        "\n",
        "Alinhamento dos conhecimentos da disciplina de Geometria Analítica, utilização da linguagem de programação Python, e suas aplicações nas diversas áreas da Engenharia Civil. Para um maior aprofundamento na disciplina de Geometria Analítica, acesse: https://github.com/Allan-Luka/PyGA/blob/main/cap01_vetores.ipynb"
      ],
      "metadata": {
        "id": "SjgLHhJHpam0"
      }
    },
    {
      "cell_type": "markdown",
      "source": [
        "#Apresentação geral\n",
        "Este produto foi desenvolvido no âmbito do Projeto da disciplina de Monitoria de Geometria Analítica.\n",
        "\n",
        "Na Engenharia Civil, a aplicação de conceitos matemáticos e geométricos é fundamental para a concepção, análise e execução de projetos. Com base nisso, este projeto visa o alinhamento desses conhecimentos com as aplicações gerais nas diversas áreas abrangidas pela Engenharia Civil, bem como o entendimento básico de ferramentas de programação como auxiliadores nesse estudo, utilizando como base o livro \"Mecânica Vetorial para Engenheiros\", em sua 9ª edição, utilizado na disciplina de Mecânica dos Sólidos 1 (EPRS122/ECIS134), do terceiro período, para a exemplificação na Engenharia Civil. Para resolução dos problemas aplicados, acesse: https://colab.research.google.com/drive/1Im9yaq9DRxnpa5jcNPPX5rz8j5iiJVw4?authuser=1"
      ],
      "metadata": {
        "id": "oq__mJBNp9py"
      }
    },
    {
      "cell_type": "markdown",
      "source": [
        "#Tema 1 - Vetores\n"
      ],
      "metadata": {
        "id": "btUTPttjZXSF"
      }
    },
    {
      "cell_type": "markdown",
      "source": [
        "\n",
        "##Aplicação Geral\n",
        "\n",
        "Na Engenharia Civil, o conceito de vetores desempenha um papel central, permitindo a representação precisa de grandezas que possuem magnitude e direção, como forças, deslocamentos e velocidades. Vetores são essenciais para modelar e resolver problemas em ambientes tridimensionais, comuns em obras e estruturas.\n",
        "Os vetores são amplamente utilizados em diversos contextos práticos, como:\n",
        "\n",
        "\n",
        "1.   Análise de Forças Estruturais, onde se determina as forças atuantes em vigas, pilares e treliças, onde se consideram sua direção e intensidade;\n",
        "2.   Estabilidade de Terrenos, onde se faz uma representação das forças gravitacionais e suas componentes ao longo de superfícies;\n",
        "3.   Projeto de Infraestruturas, com a modelagem de direções de estradas, ferrovias e canais, garantindo alinhamentos adequados e transições suaves;\n",
        "4.   Cálculo de Áreas e Volumes, onde faz-se o uso de vetores para determinar áreas de superfícies e volumes de sólidos, fundamentais em cortes e aterros.\n",
        "\n",
        "\n",
        "#Definição matemática\n",
        "Na Geometria Analítica, vetores são entidades matemáticas que representam grandezas com módulo (comprimento), sentido e direção no espaço. Eles são definidos como segmentos orientados que possuem um ponto inicial e um ponto final, mas são independentes de sua posição, ou seja, são equivalentes desde que tenham a mesmo módulo, e direção. Podemos entender de forma visual como uma flecha que parte de um ponto inicial A (Ax, Ay) para um ponto B (Bx, By), que representaria, por sua vez, o vetor $\\vec{AB}$.\n",
        "\n",
        "\n",
        "###Representações de um vetor no espaço bidimensional (2D):\n",
        "\n",
        "\n",
        "$\\vec{v}$ = (x, y), representado por um par ordenado de números reais;\n",
        "\n",
        "$\\vec{v}$ = (xÎ + yĴ), onde Î e Ĵ são versores, que repsesentam as direções de vetores unitários;\n",
        "\n",
        "$\\vec{v}$ = (a1, a2), onde a1 e a2 são números reais quaisquer.\n",
        "\n",
        "###Representações de um vetor no espaço tridimensional (3D):\n",
        "\n",
        "\n",
        "$\\vec{v}$ = (x, y, z), representado pelas coordenadas no plano tridimensional;\n",
        "\n",
        "$\\vec{v}$ = (xÎ + yĴ + zK̂), onde Î, Ĵ e K̂ são versores, que repsesentam as direções de vetores unitários;\n",
        "\n",
        "$\\vec{v}$ = (a1, a2, a3), onde a1, a2 e a3 são números reais quaisquer.\n",
        "\n",
        "#Demonstração computacional(2D e 3D):"
      ],
      "metadata": {
        "id": "XO3P5L1pqDPL"
      }
    },
    {
      "cell_type": "code",
      "source": [
        "#VETOR NO IR2\n",
        "\n",
        "# Para a representação em python, faz-se o uso da biblioteca \"matplotlib.pyplot\" para a criação do gráfico:\n",
        "\n",
        "import matplotlib.pyplot as plt\n",
        "\n",
        "#Definindo as variáveis x e y:\n",
        "\n",
        "x0 = 0\n",
        "y0 = 0\n",
        "\n",
        "#Amarzenando as variáveis na origem:\n",
        "\n",
        "origem = [x0, y0]\n",
        "\n",
        "#Dando um título ao gráfico:\n",
        "\n",
        "plt.title('Vetor 2D')\n",
        "\n",
        "#Função float, que solicita ao usuário que insira os valores para as componentes x e y do vetor:\n",
        "\n",
        "x = float(input('Digite o valor da componentes x: '))\n",
        "y = float(input('Digite o valor da componentes y: '))\n",
        "\n",
        "#Amarzenando as variáveis na lista (vetor):\n",
        "\n",
        "vetor = [x, y]\n",
        "\n",
        "#Criando os eixos do gráfico:\n",
        "\n",
        "ax = plt.axes()\n",
        "\n",
        "#Limitando os eixos(os valores podem ser editados caso haja necessidade de demonstração de vetores ainda maiores):\n",
        "\n",
        "ax.set_xlim([-4, 4])\n",
        "ax.set_ylim([-4, 4])\n",
        "\n",
        "#O ax.quiver desenha o vetor a partir do ponto de origem (x0, y0) até o ponto (x, y).\n",
        "\n",
        "#O vetor é desenhado na cor vermelha (color='r').\n",
        "\n",
        "#O parâmetro angles='xy' indica que as coordenadas são fornecidas no plano cartesiano.\n",
        "\n",
        "#scale_units='xy', scale=1 define a escala do vetor.\n",
        "\n",
        "ax.quiver(x0, y0, x, y, angles='xy', scale_units='xy', scale=1, color='r')\n",
        "\n",
        "#Exibindo as coordenadas do vetor no ponto final (x, y):\n",
        "\n",
        "ax.annotate(f'v({vetor[0]}, {vetor[1]})', (vetor[0], vetor[1]), fontsize=10)\n",
        "\n",
        "#Desenhando os eixos x e y representado na cor preta:\n",
        "\n",
        "plt.plot([-4, 4], [0, 0], color='black')\n",
        "plt.plot([0, 0], [-4, 4], color='black')\n",
        "\n",
        "#Ativa a grade no fundo do gráfico para facilitar a visualizção:\n",
        "\n",
        "ax.grid(True)"
      ],
      "metadata": {
        "id": "uUZjv1D_qJvd"
      },
      "execution_count": null,
      "outputs": []
    },
    {
      "cell_type": "code",
      "source": [
        "#VETOR NO IR3 - REPRESENTAÇÃO GERAL\n",
        "\n",
        "import matplotlib.pyplot as plt\n",
        "\n",
        "#Função float, que solicita ao usuário que insira os valores para as componentes x, y e z do vetor:\n",
        "\n",
        "x = float(input('Digite o valor da componente x: '))\n",
        "y = float(input('Digite o valor da componente y: '))\n",
        "z = float(input('Digite o valor da componente z: '))\n",
        "\n",
        "vetor = [x, y, z]\n",
        "origem = [0, 0, 0]\n",
        "\n",
        "#Cria uma nova figura para o gráfico 3D:\n",
        "\n",
        "fig = plt.figure()\n",
        "\n",
        "#Título do gráfico:\n",
        "\n",
        "plt.title('Vetor 3D')\n",
        "\n",
        "#Cria um objeto de eixo 3D:\n",
        "\n",
        "ax = plt.axes(projection='3d')\n",
        "\n",
        "#Limitando os eixos:\n",
        "\n",
        "ax.set_xlim([-20, 20])\n",
        "ax.set_ylim([-20, 20])\n",
        "ax.set_zlim([-20, 20])\n",
        "\n",
        "\n",
        "\n",
        "ax.quiver(origem[0], origem[1], origem[2], x, y, z, color='red')"
      ],
      "metadata": {
        "id": "ggPQ9BoVrzBG"
      },
      "execution_count": null,
      "outputs": []
    },
    {
      "cell_type": "markdown",
      "source": [
        "##Operações Simples com vetores\n",
        "\n",
        "##Soma e subtração de vetores: (pág. 20, 21, 22)\n",
        "\n",
        "Para a soma e subtração de vetores, opera-se separadamente cada uma das coordenadas de cada vetor, resultando em um terceiro vetor, conhecido como *vetor soma*, conforme exemplo abaixo:\n",
        "\n",
        "$\\vec{V1}$ = (1, 2, 3)\n",
        "\n",
        "$\\vec{V2}$ = (2, 3, 4)\n",
        "\n",
        "Para soma, temos:\n",
        "\n",
        "$\\vec{V1}$ + $\\vec{V2}$ = ($\\vec{V1}$x + $\\vec{V2}$x, $\\vec{V1}$y + $\\vec{V2}$y, $\\vec{V1}$z + $\\vec{V2}$z)\n",
        "\n",
        "Substituindo os valores, temos:\n",
        "\n",
        "$\\vec{V1}$ + $\\vec{V2}$ = (1 + 2, 2 + 3, 3 + 4) = (3, 5, 7)\n",
        "\n",
        "Enquanto para a subtração, temos:\n",
        "\n",
        "$\\vec{V1}$ - $\\vec{V2}$ = ($\\vec{V1}$x - $\\vec{V2}$x, $\\vec{V1}$y - $\\vec{V2}$y, $\\vec{V1}$z - $\\vec{V2}$z)\n",
        "\n",
        "Substituindo os valores, temos:\n",
        "\n",
        "$\\vec{V1}$ - $\\vec{V2}$ = (1 - 2, 2 - 3, 3 - 4) = (-1, -1, -1)\n",
        "\n",
        "##Multiplicação de um escalar por um vetor: (pág. 22)\n",
        "\n",
        "Quando temos um vetor *$\\vec{v}$* qualquer, que é representado pelas coordenadas ($\\vec{v}$x, $\\vec{v}$y, $\\vec{v}$z), e o multiplicamos por um escalar *a* qualquer, obtemos o seguinte resultado:\n",
        "\n",
        "a . $\\vec{v}$ = a . ($\\vec{v}$x, $\\vec{v}$y, $\\vec{v}$z) = (a . $\\vec{v}$x, a . $\\vec{v}$y, a . $\\vec{v}$z) = (a$\\vec{v}$x, a$\\vec{v}$y a$\\vec{v}$z)\n",
        "\n",
        "Observe que há uma operação *distributiva*, onde o escalar *a* multiplica cada uma das coordenadas separadamente, resultando em um segundo vetor (diferente do primeiro para todo a ≠ 1).\n",
        "\n",
        "Atribuindo valores, temos o seguinte exemplo:\n",
        "\n",
        "$\\vec{v}$ = (1, 2, 3)\n",
        "\n",
        "a = 5\n",
        "\n",
        "Então:\n",
        "\n",
        "a . $\\vec{v}$ = 5 . (1, 2, 3) = (5 . 1, 5 . 2, 5 . 3) = (5, 10, 15)\n",
        "\n",
        "##Módulo (Norma) de um vetor\n",
        "\n",
        "O cálculo do módulo de um vetor tem como objetivo o tamanho do mesmo no espaço.\n",
        "\n",
        "##OBS:\n",
        "Vale salientar que os exemplos demonstrados operam com vetores no espaço IR3 (x, y, z), e tem a mesma lógica de resolução de vetores no espaço IR2 (x, y).\n",
        "\n",
        "\n",
        "\n"
      ],
      "metadata": {
        "id": "uIHpHnkPA9hg"
      }
    },
    {
      "cell_type": "markdown",
      "source": [
        "##Resolução computacional"
      ],
      "metadata": {
        "id": "4PdEjZ-AI6KY"
      }
    },
    {
      "cell_type": "code",
      "source": [
        "#Soma de vetores\n",
        "\n",
        "import numpy as np\n",
        "\n",
        "# Criando vetores:\n",
        "\n",
        "v1 = np.array([1, 2, 3])\n",
        "v2 = np.array([2, 3, 4])\n",
        "\n",
        "# Soma de vetores:\n",
        "\n",
        "soma = v1 + v2\n",
        "\n",
        "print(\"Soma dos vetores é:\", soma)"
      ],
      "metadata": {
        "colab": {
          "base_uri": "https://localhost:8080/"
        },
        "id": "2vGgsxxkI5sY",
        "outputId": "e80e2a3c-a31d-4ee7-eeff-4f03de5273bf"
      },
      "execution_count": null,
      "outputs": [
        {
          "output_type": "stream",
          "name": "stdout",
          "text": [
            "Soma dos vetores é: [3 5 7]\n"
          ]
        }
      ]
    },
    {
      "cell_type": "code",
      "source": [
        "#Subtração de vetores\n",
        "\n",
        "import numpy as np\n",
        "\n",
        "# Criando vetores:\n",
        "\n",
        "v1 = np.array([1, 2, 3])\n",
        "v2 = np.array([2, 3, 4])\n",
        "\n",
        "# Soma de vetores:\n",
        "\n",
        "soma = v1 - v2\n",
        "\n",
        "print(\"Soma dos vetores é:\", soma)"
      ],
      "metadata": {
        "colab": {
          "base_uri": "https://localhost:8080/"
        },
        "id": "7g87pMIkJGUW",
        "outputId": "a86a887a-5f29-428f-d172-3b63ef104cd6"
      },
      "execution_count": null,
      "outputs": [
        {
          "output_type": "stream",
          "name": "stdout",
          "text": [
            "Soma dos vetores é: [-1 -1 -1]\n"
          ]
        }
      ]
    },
    {
      "cell_type": "code",
      "source": [
        "#Multiplicação por um escalar\n",
        "\n",
        "import numpy as np\n",
        "\n",
        "# Criando o vetor:\n",
        "\n",
        "v = np.array([1, 2, 3])\n",
        "\n",
        "# Escalar que desejamos multiplicar:\n",
        "\n",
        "escalar = 5\n",
        "\n",
        "# Multiplicação do vetor (v) por um escalar:\n",
        "\n",
        "resultado = escalar * v\n",
        "\n",
        "print(\"O resultado da multiplicação do vetor (v) pelo escalar é:\", resultado)"
      ],
      "metadata": {
        "colab": {
          "base_uri": "https://localhost:8080/"
        },
        "id": "RIo1a2veJN3G",
        "outputId": "e83aded5-d5f1-4752-8187-e6fb76467e8d"
      },
      "execution_count": null,
      "outputs": [
        {
          "output_type": "stream",
          "name": "stdout",
          "text": [
            "O resultado da multiplicação do vetor (v) pelo escalar é: [ 5 10 15]\n"
          ]
        }
      ]
    },
    {
      "cell_type": "markdown",
      "source": [
        "##Projeção/Decomposição dos componentes de uma força\n",
        "\n",
        "Ao se decompor um vetor em componentes dos eixos, x, y e z, facilita-se a manipulação e análise dos vetores, conforme visto abaixo:\n",
        "\n",
        "$\\vec{v}$ = (1, 5, 9)\n",
        "\n",
        "Quando decomposto, temos:\n",
        "\n",
        "$\\vec{v}$x= 1\n",
        "\n",
        "$\\vec{v}$y= 5\n",
        "\n",
        "$\\vec{v}$z= 9\n",
        "\n"
      ],
      "metadata": {
        "id": "-qjc-mcN1MAB"
      }
    },
    {
      "cell_type": "markdown",
      "source": [
        "# Tema 2 - Produto Escalar"
      ],
      "metadata": {
        "id": "BDfCKWRgqN90"
      }
    },
    {
      "cell_type": "markdown",
      "source": [
        "##Aplicação Geral\n",
        "\n",
        "\n",
        "O produto escalar é uma operação fundamental na geometria analítica, utilizado em diversas áreas da engenharia civil. Ele permite calcular o ângulo entre dois vetores, determinar projeções e verificar a ortogonalidade de vetores. Essas propriedades são cruciais em aplicações como a análise de forças em estruturas, onde o alinhamento ou oposição entre forças influencia diretamente a estabilidade e o desempenho das edificações. Além disso, o produto escalar é aplicado na modelagem de esforços internos em vigas e pilares, no cálculo de trabalho mecânico e em simulações de fenômenos físicos, como o transporte de materiais e fluidos. Assim, ele se apresenta como uma ferramenta indispensável para otimizar projetos e garantir a segurança e eficiência das construções.\n",
        "\n",
        "\n",
        "\n",
        "##Definição Matemática (pág. 96)\n",
        "\n",
        "\n",
        "O produto escalar é definido como o produto das intensidades entre dois vetores e do cosseno do ângulo theta entre eles, resultando em um número real (escalar).\n",
        "\n",
        "Para a resolução de um produto escalar, faz-se uso de dois métodos principais:\n",
        "\n",
        "##Método Algébrico\n",
        "\n",
        "Para a resolução através do método algébrico, multiplica-se cada coordenada semelhante dos vetores entre si, somando todos o resultados obtidos posteriormente, conseguindo assim um valor escalar final.\n",
        "\n",
        "$\\vec{v}$ = ($\\vec{v}$x, $\\vec{v}$y, $\\vec{v}$z)\n",
        "\n",
        "$\\vec{w}$ = ($\\vec{w}$x, $\\vec{w}$y, $\\vec{w}$z)\n",
        "\n",
        "$\\vec{v}$ . $\\vec{w}$ = ($\\vec{v}$x . $\\vec{w}$x + $\\vec{v}$y . $\\vec{w}$y + $\\vec{v}$z . $\\vec{w}$z)\n",
        "\n",
        "##Método Geométrico\n",
        "\n",
        "Para a resolução através do método geométrico, calcula-se o módulo de cada um dos vetores, multiplicando os resultados com o cosseno do ângulo theta entre os vetores.\n",
        "\n",
        "$\\vec{v}$ = ($\\vec{v}$x, $\\vec{v}$y, $\\vec{v}$z)\n",
        "\n",
        "$\\vec{w}$ = ($\\vec{w}$x, $\\vec{w}$y, $\\vec{w}$z)\n",
        "\n",
        "$\\vec{v}$ . $\\vec{w}$ = |$\\vec{v}$| . |$\\vec{w}$| .  cos(theta)\n",
        "\n",
        "Demonstração visual na figura abaixo:\n",
        "\n",
        "![imagem_2024-12-27_100718876.png](data:image/png;base64,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)\n",
        "\n",
        "\n",
        "(Pág. 96, Capítulo 3.9, Figura 3.19)\n",
        "\n",
        "\n"
      ],
      "metadata": {
        "id": "m0qc8qI5K1Kf"
      }
    },
    {
      "cell_type": "code",
      "source": [
        "import numpy as np\n",
        "\n",
        "u = [10, 5]\n",
        "v = [7, 5]\n",
        "print(np.dot(u, v))\n",
        "print(np.dot(v, u))"
      ],
      "metadata": {
        "id": "i19sSXgPqOV5",
        "colab": {
          "base_uri": "https://localhost:8080/"
        },
        "outputId": "e44105a1-b3ef-4f11-ee9e-14cc364629bf"
      },
      "execution_count": null,
      "outputs": [
        {
          "output_type": "stream",
          "name": "stdout",
          "text": [
            "95\n",
            "95\n"
          ]
        }
      ]
    },
    {
      "cell_type": "markdown",
      "source": [
        "##Ângulo Entre Vetores (pág. 97)\n",
        "\n",
        "Utilizando a fórmula da resolução geométrica, isola-se o cosseno do ângulo theta, passando o módulo dos vetores para o outro lado da igualdade:\n",
        "\n",
        "cos(theta) =  $\\vec{v}$ . $\\vec{w}$ / |$\\vec{v}$| . |$\\vec{w}$|\n",
        "\n",
        "##Projeção de um vetor sobre um eixo (pág. 97)\n",
        "\n",
        "-Placeholder"
      ],
      "metadata": {
        "id": "HpxcJyBuRECE"
      }
    },
    {
      "cell_type": "code",
      "source": [
        "#Placeholder"
      ],
      "metadata": {
        "id": "lg2arRczRu_6"
      },
      "execution_count": null,
      "outputs": []
    },
    {
      "cell_type": "markdown",
      "source": [
        "#Tema 3 - Produto Vetorial"
      ],
      "metadata": {
        "id": "geJKsW-1qR-Q"
      }
    },
    {
      "cell_type": "markdown",
      "source": [
        "##Aplicação Geral\n",
        "\n",
        "\n",
        "O produto vetorial tem inúmeras aplicações práticas na engenharia civil. Ele resulta em um vetor perpendicular ao plano formado por dois vetores iniciais, com magnitude proporcional à área do paralelogramo que eles definem. Essa propriedade é amplamente utilizada na análise de momentos e torques em estruturas, permitindo calcular a força rotacional aplicada a vigas, treliças e fundações. Além disso, o produto vetorial auxilia na determinação de normais a superfícies, fundamentais para estudos de estabilidade de encostas, análise de fluxos em hidráulica e no projeto de sistemas de drenagem. Sua capacidade de descrever interações tridimensionais torna-o indispensável para resolver problemas complexos em estruturas e geotecnia.\n",
        "\n",
        "\n",
        "\n",
        "##Definição Matemática (pág. 79)\n",
        "\n",
        "\n",
        "O produto vetorial de dois vetores $\\vec{P}$ e $\\vec{Q}$ vetores é definido pelo vetor $\\vec{V}$ que satisfaz às seguintes opções:\n",
        "\n",
        "1. A linha de ção de $\\vec{V}$ é perpendicular ao plno que contém $\\vec{P}$ e $\\vec{Q}$, conforme a figura abaixo:\n",
        "\n",
        "\n",
        "![imagem_2024-12-27_102726278.png](data:image/png;base64,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)\n",
        "\n",
        "(Pág. 79, Capítulo 3.4, Figura 3.6a)\n",
        "\n",
        "\n",
        "2. A intensidade (o módulo) de $\\vec{V}$ é o produto das intensidades de $\\vec{P}$ e $\\vec{Q}$ e do seno do ângulo theta formado por $\\vec{P}$ e $\\vec{Q}$ (cujo valor será sempre menor ou igual a 180 graus), de forma que temos:\n",
        "\n",
        "$\\vec{V}$ = $\\vec{P}$ . $\\vec{Q}$ . sen(theta)"
      ],
      "metadata": {
        "id": "WmEwYTgXLaqe"
      }
    },
    {
      "cell_type": "code",
      "source": [
        "#Placeholder"
      ],
      "metadata": {
        "id": "RmkJp71WqWjp"
      },
      "execution_count": null,
      "outputs": []
    },
    {
      "cell_type": "markdown",
      "source": [
        "Para solucionar o produto vetorial entre dois vetores $\\vec{V}$ e $\\vec{W}$, faz-se uso de dois principais métodos de resolução:\n",
        "\n",
        "##Método dos Versores\n",
        "\n",
        "\n",
        "Para a resolução através do método dos versores, primeiro precisa-se entender a lógica que rege os versores (Î, Ĵ, K̂). Quando fazemos um produto vetorial entre os versores, a ordem do produto altera no sentido(positivo ou negativo), de forma a obedecer a seguinte ordem:\n",
        "\n",
        "Para manter o sinal do produto entre os versores positivo: Î → Ĵ → K̂ → Î   \n",
        "\n",
        "\n",
        "Para que o sinal do produto entre os versores passe a ser negativo: Î → K̂ → Ĵ → Î   \n",
        "\n",
        "\n",
        "##Método dos determinantes\n",
        "\n",
        "Para a resolução através do método dos determinantes, faz-se uso da organização dos vetores em formato de matrizes, esquematizando da seguinte forma:\n",
        "\n",
        "\n",
        "![imagem_2024-12-27_104806621.png](data:image/png;base64,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)\n",
        "\n",
        "\n",
        "(Pág. 82, Capítulo 3.5, Figura 3.10)\n",
        "\n",
        "-Placeholder\n"
      ],
      "metadata": {
        "id": "F3MXIfVTUu0w"
      }
    },
    {
      "cell_type": "markdown",
      "source": [
        "#Tema 4 - Produto Misto"
      ],
      "metadata": {
        "id": "Kw97FE4pqWFJ"
      }
    },
    {
      "cell_type": "markdown",
      "source": [
        "##Aplicação Geral\n",
        "\n",
        "\n",
        "O produto misto é uma operação envolvendo três vetores que combina o produto vetorial e o produto escalar, resultando em um número escalar. Esse valor representa o volume do paralelepípedo definido pelos três vetores, sendo positivo ou negativo dependendo da orientação dos vetores no espaço. Na engenharia civil, o produto misto é aplicado em cálculos de volumes de sólidos tridimensionais, como barragens, fundações e obras de terraplenagem. Ele também é útil na verificação de coplanaridade de vetores, essencial para garantir alinhamentos e a integridade estrutural em projetos.\n",
        "\n",
        "\n",
        "\n",
        "##Definição Matemática (Pág. 98)\n",
        "\n",
        "\n",
        "Um produto mistro entre três vetores $\\vec{S}$, $\\vec{P}$ e $\\vec{Q}$ é definido pela expressão escalar\n",
        "\n",
        "$\\vec{S}$ . ($\\vec{P}$ x $\\vec{Q}$)\n",
        "\n",
        "onde calcula-se primeiro o produto vetorial interno ($\\vec{P}$ x $\\vec{Q}$), e, após, calcula-se o produto escalar entre $\\vec{S}$ e o vetor $\\vec{V}$ obtido através do produto vetorial, resultando, assim, em um escalar no fim da operação. Segue abaixo a ilustração visual do produto misto:\n",
        "\n",
        "\n",
        "\n",
        "![imagem_2024-12-27_110202884.png](data:image/png;base64,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)\n",
        "\n",
        "\n",
        "(Pág. 98, Capítulo 3.10, Figura 3.24)\n",
        "\n",
        "\n",
        "##Exemplo\n",
        "\n",
        "-Placeholder\n"
      ],
      "metadata": {
        "id": "zKT35y_2LbCt"
      }
    },
    {
      "cell_type": "code",
      "source": [
        "#Placeholder"
      ],
      "metadata": {
        "id": "SDBQwtOGqhCg"
      },
      "execution_count": null,
      "outputs": []
    },
    {
      "cell_type": "markdown",
      "source": [
        "#Tema 5 - A Reta"
      ],
      "metadata": {
        "id": "S0MQSiYoqZoJ"
      }
    },
    {
      "cell_type": "markdown",
      "source": [
        "##Aplicação Geral\n",
        "\n",
        "\n",
        "O estudo da reta é um dos pilares fundamentais da geometria analítica e desempenha um papel essencial na engenharia civil, onde é frequentemente utilizado para modelar elementos estruturais, trajetórias e alinhamentos. A reta pode ser representada por equações vetoriais, paramétricas ou implícitas, permitindo a descrição precisa de suas propriedades, como direção, inclinação e posição relativa a outros elementos geométricos.\n",
        "\n",
        "Na engenharia civil, esse estudo é aplicado na análise de alinhamentos em projetos de infraestrutura, como rodovias, ferrovias e redes de tubulações. Também é utilizado no cálculo de interseções entre retas e planos, fundamentais no posicionamento de pilares e vigas, além de auxiliar na otimização de trajetórias de guindastes e equipamentos de construção. O estudo da reta fornece as bases para o entendimento de relações geométricas, essenciais para garantir precisão e eficiência nos projetos.\n",
        "\n",
        "\n",
        "\n",
        "##Definição Matemática"
      ],
      "metadata": {
        "id": "Qwux1tjDMGEr"
      }
    },
    {
      "cell_type": "code",
      "source": [
        "#Placeholder"
      ],
      "metadata": {
        "id": "b1VNCbvNqgxY"
      },
      "execution_count": null,
      "outputs": []
    },
    {
      "cell_type": "markdown",
      "source": [
        "#Tema 6 - O Plano"
      ],
      "metadata": {
        "id": "8BWPQobGqaxI"
      }
    },
    {
      "cell_type": "markdown",
      "source": [
        "##Aplicação Geral\n",
        "\n",
        "\n",
        "O estudo do plano é uma área essencial da geometria analítica, com aplicações diretas na engenharia civil, onde muitas superfícies e elementos construtivos podem ser idealizados como planos. Um plano é definido por uma equação linear envolvendo três variáveis ou por pontos e vetores que determinam sua posição e orientação no espaço. Suas propriedades permitem analisar a interação com outros elementos geométricos, como retas e sólidos, além de calcular ângulos, projeções e distâncias.\n",
        "\n",
        "Na engenharia civil, o estudo do plano é crucial para a modelagem de lajes, paredes e superfícies de contato entre materiais. Ele também é utilizado na análise de estabilidade de taludes, na determinação de inclinações de terrenos para drenagem, no alinhamento de fundações e na otimização de cortes e aterros em obras de terraplenagem. A compreensão das relações geométricas do plano é indispensável para garantir a precisão e a segurança nos projetos construtivos e estruturais.\n",
        "\n",
        "\n",
        "\n",
        "##Definição Matemática"
      ],
      "metadata": {
        "id": "FdLuo0rcMGry"
      }
    },
    {
      "cell_type": "code",
      "source": [
        "#Placeholder"
      ],
      "metadata": {
        "id": "cnsi5dcYqgeQ"
      },
      "execution_count": null,
      "outputs": []
    },
    {
      "cell_type": "markdown",
      "source": [
        "#Tema 7 - Distâncias"
      ],
      "metadata": {
        "id": "VwIk641BqcYA"
      }
    },
    {
      "cell_type": "markdown",
      "source": [
        "##Aplicação Geral\n",
        "\n",
        "\n",
        "O estudo de distâncias é um tópico central na geometria analítica e tem ampla aplicação na engenharia civil, onde a medição precisa de distâncias é essencial para garantir a funcionalidade e segurança de projetos. As fórmulas para calcular distâncias entre pontos, retas e planos permitem determinar alinhamentos, alturas, afastamentos e tolerâncias fundamentais no planejamento e execução de obras.\n",
        "\n",
        "Na engenharia civil, o estudo de distâncias é aplicado em diversas situações, como no cálculo de espaçamentos entre estruturas, na avaliação da proximidade entre fundações e redes subterrâneas, e na determinação de áreas de influência em projetos de drenagem e escavação. Além disso, ele é usado para avaliar a perpendicularidade de elementos estruturais, como vigas e colunas, e para verificar a conformidade de projetos com normas técnicas. O domínio dessas técnicas geométricas é indispensável para garantir precisão e eficiência em todas as etapas do processo construtivo.\n",
        "\n",
        "\n",
        "\n",
        "##Definição Matemática"
      ],
      "metadata": {
        "id": "evgNkU8lMHEi"
      }
    },
    {
      "cell_type": "code",
      "source": [
        "#Placeholder"
      ],
      "metadata": {
        "id": "-u_dwZOcqgMo"
      },
      "execution_count": null,
      "outputs": []
    },
    {
      "cell_type": "markdown",
      "source": [
        "#Tema 8 - Cônicas"
      ],
      "metadata": {
        "id": "uatNCtOFqdpw"
      }
    },
    {
      "cell_type": "markdown",
      "source": [
        "##Aplicação Geral\n",
        "\n",
        "\n",
        "O estudo das cônicas — elipse, parábola e hipérbole — é uma área da geometria analítica com aplicações significativas na engenharia civil. Essas curvas resultam da interseção de um plano com um cone e possuem propriedades geométricas que tornam seu estudo indispensável para diversos projetos e análises estruturais.\n",
        "\n",
        "Na engenharia civil, as cônicas aparecem no design e análise de elementos arquitetônicos e estruturais. A elipse, por exemplo, é utilizada no dimensionamento de arcos e domos, proporcionando resistência e eficiência estrutural. A parábola é amplamente aplicada em projetos de pontes, aquedutos e superfícies refletoras, como em sistemas de iluminação natural. Já a hipérbole surge em projetos de torres e em estudos de propagação de ondas em solos.\n",
        "\n",
        "Além disso, as cônicas são essenciais na análise de estabilidade de taludes e em cálculos de distribuição de esforços em elementos curvos. Compreender suas propriedades permite integrar beleza, funcionalidade e segurança nos projetos de engenharia civil.\n",
        "\n",
        "\n",
        "\n",
        "##Definição Matemática"
      ],
      "metadata": {
        "id": "ioKhQZorMHha"
      }
    },
    {
      "cell_type": "code",
      "source": [
        "#Placeholder"
      ],
      "metadata": {
        "id": "HLIwannRqf1g"
      },
      "execution_count": null,
      "outputs": []
    },
    {
      "cell_type": "markdown",
      "source": [
        "#Tema 9 - Superfícies Quádricas"
      ],
      "metadata": {
        "id": "6UvXjhY-qeYg"
      }
    },
    {
      "cell_type": "markdown",
      "source": [
        "##Aplicação Geral\n",
        "\n",
        "\n",
        "O estudo das superfícies quádricas é uma extensão da geometria analítica que engloba formas tridimensionais definidas por equações quadráticas. Entre as superfícies mais comuns estão a esfera, o cilindro elíptico, o cone elíptico, o paraboloide (elíptico e hiperbólico) e o hiperboloide (de uma ou duas folhas). Essas superfícies possuem propriedades geométricas específicas que as tornam fundamentais para aplicações práticas na engenharia civil.\n",
        "\n",
        "Na engenharia civil, superfícies quádricas são frequentemente utilizadas no projeto de estruturas como reservatórios esféricos, cúpulas geodésicas, abóbadas, arcos e torres parabólicas. Elas também aparecem em análises de estabilidade de taludes e em modelagens avançadas de elementos estruturais submetidos a esforços tridimensionais. O hiperboloide, por exemplo, é aplicado em torres de resfriamento devido à sua eficiência estrutural e aerodinâmica.\n",
        "\n",
        "Além disso, as superfícies quádricas são utilizadas em ferramentas de modelagem computacional para otimizar projetos complexos, integrar análises geométricas e resolver problemas espaciais. O domínio desse estudo permite que engenheiros combinem estética, funcionalidade e eficiência em projetos arquitetônicos e estruturais inovadores.\n",
        "\n",
        "\n",
        "\n",
        "##Definição Matemática"
      ],
      "metadata": {
        "id": "k_7Vz37bMH56"
      }
    },
    {
      "cell_type": "code",
      "source": [
        "#Placeholder"
      ],
      "metadata": {
        "id": "UEBSvK5nqfYU"
      },
      "execution_count": null,
      "outputs": []
    }
  ]
}