{
  "nbformat": 4,
  "nbformat_minor": 0,
  "metadata": {
    "colab": {
      "provenance": [],
      "toc_visible": true,
      "collapsed_sections": [
        "HpxcJyBuRECE",
        "lvlj5a99S5aK",
        "1mg2E2s3R_ej",
        "XArJEeRIR3Zz",
        "F3MXIfVTUu0w",
        "Kw97FE4pqWFJ"
      ],
      "include_colab_link": true
    },
    "kernelspec": {
      "name": "python3",
      "display_name": "Python 3"
    },
    "language_info": {
      "name": "python"
    }
  },
  "cells": [
    {
      "cell_type": "markdown",
      "metadata": {
        "id": "view-in-github",
        "colab_type": "text"
      },
      "source": [
        "<a href=\"https://colab.research.google.com/github/gixvnni/PyGA-EC/blob/main/PyGA_EC.ipynb\" target=\"_parent\"><img src=\"https://colab.research.google.com/assets/colab-badge.svg\" alt=\"Open In Colab\"/></a>"
      ]
    },
    {
      "cell_type": "markdown",
      "source": [
        "Repositório G.A. - Engenharia_Civil"
      ],
      "metadata": {
        "id": "vW8ftIlCdBIy"
      }
    },
    {
      "cell_type": "markdown",
      "source": [
        "## Projeto 1:\n",
        "\n",
        "Alinhamento dos conhecimentos da disciplina de Geometria Analítica, utilização da linguagem de programação Python, e suas aplicações nas diversas áreas da Engenharia Civil. Para um maior aprofundamento na disciplina de Geometria Analítica, acesse [PyGA](https://github.com/Allan-Luka/PyGA/blob/main/cap01_vetores.ipynb)."
      ],
      "metadata": {
        "id": "SjgLHhJHpam0"
      }
    },
    {
      "cell_type": "markdown",
      "source": [
        "#Apresentação geral\n",
        "Este produto foi desenvolvido no âmbito do Projeto da disciplina de Monitoria de Geometria Analítica.\n",
        "\n",
        "Na Engenharia Civil, a aplicação de conceitos matemáticos e geométricos é fundamental para a concepção, análise e execução de projetos. Com base nisso, este projeto visa o alinhamento desses conhecimentos com as aplicações gerais nas diversas áreas abrangidas pela Engenharia Civil, bem como o entendimento básico de ferramentas de programação como auxiliadores nesse estudo, utilizando como base o livro \"Mecânica Vetorial para Engenheiros\", em sua 9ª edição, utilizado na disciplina de Mecânica dos Sólidos 1 (EPRS122/ECIS134), do terceiro período, para a exemplificação na Engenharia Civil."
      ],
      "metadata": {
        "id": "oq__mJBNp9py"
      }
    },
    {
      "cell_type": "markdown",
      "source": [
        "#Tema 1 - Vetores - Concluído\n"
      ],
      "metadata": {
        "id": "btUTPttjZXSF"
      }
    },
    {
      "cell_type": "markdown",
      "source": [
        "\n",
        "##Aplicação Geral\n",
        "\n",
        "Na Engenharia Civil, o conceito de vetores desempenha um papel central, permitindo a representação precisa de grandezas que possuem magnitude e direção, como forças, deslocamentos e velocidades. Vetores são essenciais para modelar e resolver problemas em ambientes tridimensionais, comuns em obras e estruturas.\n",
        "Os vetores são amplamente utilizados em diversos contextos práticos, como:\n",
        "\n",
        "\n",
        "1.   Análise de Forças Estruturais, onde se determina as forças atuantes em vigas, pilares e treliças, onde se consideram sua direção e intensidade;\n",
        "2.   Estabilidade de Terrenos, onde se faz uma representação das forças gravitacionais e suas componentes ao longo de superfícies;\n",
        "3.   Projeto de Infraestruturas, com a modelagem de direções de estradas, ferrovias e canais, garantindo alinhamentos adequados e transições suaves;\n",
        "4.   Cálculo de Áreas e Volumes, onde faz-se o uso de vetores para determinar áreas de superfícies e volumes de sólidos, fundamentais em cortes e aterros.\n",
        "\n",
        "\n",
        "#Definição matemática\n",
        "Na Geometria Analítica, vetores são entidades matemáticas que representam grandezas com módulo (comprimento), sentido e direção no espaço. Eles são definidos como segmentos orientados que possuem um ponto inicial e um ponto final, mas são independentes de sua posição, ou seja, são equivalentes desde que tenham a mesmo módulo, e direção. Podemos entender de forma visual como uma flecha que parte de um ponto inicial A (Ax, Ay) para um ponto B (Bx, By), que representaria, por sua vez, o vetor $\\vec{AB}$.\n",
        "\n",
        "\n",
        "###Representações de um vetor no espaço bidimensional (2D):\n",
        "\n",
        "\n",
        "$\\vec{v}$ = (x, y), representado por um par ordenado de números reais;\n",
        "\n",
        "$\\vec{v}$ = (xÎ + yĴ), onde Î e Ĵ são versores, que repsesentam as direções de vetores unitários;\n",
        "\n",
        "$\\vec{v}$ = (a1, a2), onde a1 e a2 são números reais quaisquer.\n",
        "\n",
        "###Representações de um vetor no espaço tridimensional (3D):\n",
        "\n",
        "\n",
        "$\\vec{v}$ = (x, y, z), representado pelas coordenadas no plano tridimensional;\n",
        "\n",
        "$\\vec{v}$ = (xÎ + yĴ + zK̂), onde Î, Ĵ e K̂ são versores, que repsesentam as direções de vetores unitários;\n",
        "\n",
        "$\\vec{v}$ = (a1, a2, a3), onde a1, a2 e a3 são números reais quaisquer.\n",
        "\n",
        "#Demonstração computacional(2D e 3D):"
      ],
      "metadata": {
        "id": "XO3P5L1pqDPL"
      }
    },
    {
      "cell_type": "code",
      "source": [
        "#VETOR NO IR2\n",
        "\n",
        "# Para a representação em python, faz-se o uso da biblioteca \"matplotlib.pyplot\" para a criação do gráfico:\n",
        "\n",
        "import matplotlib.pyplot as plt\n",
        "\n",
        "#Definindo as variáveis x e y:\n",
        "\n",
        "x0 = 0\n",
        "y0 = 0\n",
        "\n",
        "#Amarzenando as variáveis na origem:\n",
        "\n",
        "origem = [x0, y0]\n",
        "\n",
        "#Dando um título ao gráfico:\n",
        "\n",
        "plt.title('Vetor 2D')\n",
        "\n",
        "#Função float, que solicita ao usuário que insira os valores para as componentes x e y do vetor:\n",
        "\n",
        "x = float(input('Digite o valor da componentes x: '))\n",
        "y = float(input('Digite o valor da componentes y: '))\n",
        "\n",
        "#Amarzenando as variáveis na lista (vetor):\n",
        "\n",
        "vetor = [x, y]\n",
        "\n",
        "#Criando os eixos do gráfico:\n",
        "\n",
        "ax = plt.axes()\n",
        "\n",
        "#Limitando os eixos(os valores podem ser editados caso haja necessidade de demonstração de vetores ainda maiores):\n",
        "\n",
        "ax.set_xlim([-4, 4])\n",
        "ax.set_ylim([-4, 4])\n",
        "\n",
        "#O ax.quiver desenha o vetor a partir do ponto de origem (x0, y0) até o ponto (x, y).\n",
        "\n",
        "#O vetor é desenhado na cor vermelha (color='r').\n",
        "\n",
        "#O parâmetro angles='xy' indica que as coordenadas são fornecidas no plano cartesiano.\n",
        "\n",
        "#scale_units='xy', scale=1 define a escala do vetor.\n",
        "\n",
        "ax.quiver(x0, y0, x, y, angles='xy', scale_units='xy', scale=1, color='r')\n",
        "\n",
        "#Exibindo as coordenadas do vetor no ponto final (x, y):\n",
        "\n",
        "ax.annotate(f'v({vetor[0]}, {vetor[1]})', (vetor[0], vetor[1]), fontsize=10)\n",
        "\n",
        "#Desenhando os eixos x e y representado na cor preta:\n",
        "\n",
        "plt.plot([-4, 4], [0, 0], color='black')\n",
        "plt.plot([0, 0], [-4, 4], color='black')\n",
        "\n",
        "#Ativa a grade no fundo do gráfico para facilitar a visualizção:\n",
        "\n",
        "ax.grid(True)"
      ],
      "metadata": {
        "id": "uUZjv1D_qJvd"
      },
      "execution_count": null,
      "outputs": []
    },
    {
      "cell_type": "code",
      "source": [
        "#VETOR NO IR3 - REPRESENTAÇÃO GERAL\n",
        "\n",
        "import matplotlib.pyplot as plt\n",
        "\n",
        "#Função float, que solicita ao usuário que insira os valores para as componentes x, y e z do vetor:\n",
        "\n",
        "x = float(input('Digite o valor da componente x: '))\n",
        "y = float(input('Digite o valor da componente y: '))\n",
        "z = float(input('Digite o valor da componente z: '))\n",
        "\n",
        "vetor = [x, y, z]\n",
        "origem = [0, 0, 0]\n",
        "\n",
        "#Cria uma nova figura para o gráfico 3D:\n",
        "\n",
        "fig = plt.figure()\n",
        "\n",
        "#Título do gráfico:\n",
        "\n",
        "plt.title('Vetor 3D')\n",
        "\n",
        "#Cria um objeto de eixo 3D:\n",
        "\n",
        "ax = plt.axes(projection='3d')\n",
        "\n",
        "#Limitando os eixos:\n",
        "\n",
        "ax.set_xlim([-20, 20])\n",
        "ax.set_ylim([-20, 20])\n",
        "ax.set_zlim([-20, 20])\n",
        "\n",
        "\n",
        "\n",
        "ax.quiver(origem[0], origem[1], origem[2], x, y, z, color='red')"
      ],
      "metadata": {
        "id": "ggPQ9BoVrzBG"
      },
      "execution_count": null,
      "outputs": []
    },
    {
      "cell_type": "markdown",
      "source": [
        "##Operações Simples com vetores\n",
        "\n",
        "##Soma e subtração de vetores: (pág. 20, 21, 22)\n",
        "\n",
        "Para a soma e subtração de vetores, opera-se separadamente cada uma das coordenadas de cada vetor, resultando em um terceiro vetor, conhecido como *vetor soma*, conforme exemplo abaixo:\n",
        "\n",
        "$\\vec{V1}$ = (1, 2, 3)\n",
        "\n",
        "$\\vec{V2}$ = (2, 3, 4)\n",
        "\n",
        "Para soma, temos:\n",
        "\n",
        "$\\vec{V1}$ + $\\vec{V2}$ = ($\\vec{V1}$x + $\\vec{V2}$x, $\\vec{V1}$y + $\\vec{V2}$y, $\\vec{V1}$z + $\\vec{V2}$z)\n",
        "\n",
        "Substituindo os valores, temos:\n",
        "\n",
        "$\\vec{V1}$ + $\\vec{V2}$ = (1 + 2, 2 + 3, 3 + 4) = (3, 5, 7)\n",
        "\n",
        "Enquanto para a subtração, temos:\n",
        "\n",
        "$\\vec{V1}$ - $\\vec{V2}$ = ($\\vec{V1}$x - $\\vec{V2}$x, $\\vec{V1}$y - $\\vec{V2}$y, $\\vec{V1}$z - $\\vec{V2}$z)\n",
        "\n",
        "Substituindo os valores, temos:\n",
        "\n",
        "$\\vec{V1}$ - $\\vec{V2}$ = (1 - 2, 2 - 3, 3 - 4) = (-1, -1, -1)\n",
        "\n",
        "##Multiplicação de um escalar por um vetor: (pág. 22)\n",
        "\n",
        "Quando temos um vetor *$\\vec{v}$* qualquer, que é representado pelas coordenadas ($\\vec{v}$x, $\\vec{v}$y, $\\vec{v}$z), e o multiplicamos por um escalar *a* qualquer, obtemos o seguinte resultado:\n",
        "\n",
        "a . $\\vec{v}$ = a . ($\\vec{v}$x, $\\vec{v}$y, $\\vec{v}$z) = (a . $\\vec{v}$x, a . $\\vec{v}$y, a . $\\vec{v}$z) = (a$\\vec{v}$x, a$\\vec{v}$y a$\\vec{v}$z)\n",
        "\n",
        "Observe que há uma operação *distributiva*, onde o escalar *a* multiplica cada uma das coordenadas separadamente, resultando em um segundo vetor (diferente do primeiro para todo a ≠ 1).\n",
        "\n",
        "Atribuindo valores, temos o seguinte exemplo:\n",
        "\n",
        "$\\vec{v}$ = (1, 2, 3)\n",
        "\n",
        "a = 5\n",
        "\n",
        "Então:\n",
        "\n",
        "a . $\\vec{v}$ = 5 . (1, 2, 3) = (5 . 1, 5 . 2, 5 . 3) = (5, 10, 15)\n",
        "\n",
        "##Módulo (Norma) de um vetor\n",
        "\n",
        "O cálculo do módulo de um vetor tem como objetivo o tamanho do mesmo no espaço.\n",
        "\n",
        "##OBS:\n",
        "Vale salientar que os exemplos demonstrados operam com vetores no espaço IR3 (x, y, z), e tem a mesma lógica de resolução de vetores no espaço IR2 (x, y).\n",
        "\n",
        "\n",
        "\n"
      ],
      "metadata": {
        "id": "uIHpHnkPA9hg"
      }
    },
    {
      "cell_type": "markdown",
      "source": [
        "##Resolução computacional"
      ],
      "metadata": {
        "id": "4PdEjZ-AI6KY"
      }
    },
    {
      "cell_type": "code",
      "source": [
        "#Soma de vetores\n",
        "\n",
        "import numpy as np\n",
        "\n",
        "# Criando vetores:\n",
        "\n",
        "v1 = np.array([1, 2, 3])\n",
        "v2 = np.array([2, 3, 4])\n",
        "\n",
        "# Soma de vetores:\n",
        "\n",
        "soma = v1 + v2\n",
        "\n",
        "print(\"Soma dos vetores é:\", soma)"
      ],
      "metadata": {
        "colab": {
          "base_uri": "https://localhost:8080/"
        },
        "id": "2vGgsxxkI5sY",
        "outputId": "e80e2a3c-a31d-4ee7-eeff-4f03de5273bf"
      },
      "execution_count": null,
      "outputs": [
        {
          "output_type": "stream",
          "name": "stdout",
          "text": [
            "Soma dos vetores é: [3 5 7]\n"
          ]
        }
      ]
    },
    {
      "cell_type": "code",
      "source": [
        "#Subtração de vetores\n",
        "\n",
        "import numpy as np\n",
        "\n",
        "# Criando vetores:\n",
        "\n",
        "v1 = np.array([1, 2, 3])\n",
        "v2 = np.array([2, 3, 4])\n",
        "\n",
        "# Soma de vetores:\n",
        "\n",
        "soma = v1 - v2\n",
        "\n",
        "print(\"Soma dos vetores é:\", soma)"
      ],
      "metadata": {
        "colab": {
          "base_uri": "https://localhost:8080/"
        },
        "id": "7g87pMIkJGUW",
        "outputId": "a86a887a-5f29-428f-d172-3b63ef104cd6"
      },
      "execution_count": null,
      "outputs": [
        {
          "output_type": "stream",
          "name": "stdout",
          "text": [
            "Soma dos vetores é: [-1 -1 -1]\n"
          ]
        }
      ]
    },
    {
      "cell_type": "code",
      "source": [
        "#Multiplicação por um escalar\n",
        "\n",
        "import numpy as np\n",
        "\n",
        "# Criando o vetor:\n",
        "\n",
        "v = np.array([1, 2, 3])\n",
        "\n",
        "# Escalar que desejamos multiplicar:\n",
        "\n",
        "escalar = 5\n",
        "\n",
        "# Multiplicação do vetor (v) por um escalar:\n",
        "\n",
        "resultado = escalar * v\n",
        "\n",
        "print(\"O resultado da multiplicação do vetor (v) pelo escalar é:\", resultado)"
      ],
      "metadata": {
        "colab": {
          "base_uri": "https://localhost:8080/"
        },
        "id": "RIo1a2veJN3G",
        "outputId": "e83aded5-d5f1-4752-8187-e6fb76467e8d"
      },
      "execution_count": null,
      "outputs": [
        {
          "output_type": "stream",
          "name": "stdout",
          "text": [
            "O resultado da multiplicação do vetor (v) pelo escalar é: [ 5 10 15]\n"
          ]
        }
      ]
    },
    {
      "cell_type": "markdown",
      "source": [
        "##Projeção/Decomposição dos componentes de uma força\n",
        "\n",
        "Ao se decompor um vetor em componentes dos eixos, x, y e z, facilita-se a manipulação e análise dos vetores, conforme visto abaixo:\n",
        "\n",
        "$\\vec{v}$ = (1, 5, 9)\n",
        "\n",
        "Quando decomposto, temos:\n",
        "\n",
        "$\\vec{v}$x= 1\n",
        "\n",
        "$\\vec{v}$y= 5\n",
        "\n",
        "$\\vec{v}$z= 9\n",
        "\n"
      ],
      "metadata": {
        "id": "-qjc-mcN1MAB"
      }
    },
    {
      "cell_type": "markdown",
      "source": [
        "# Tema 2 - Produto Escalar - Concluído"
      ],
      "metadata": {
        "id": "BDfCKWRgqN90"
      }
    },
    {
      "cell_type": "markdown",
      "source": [
        "##Aplicação Geral\n",
        "\n",
        "\n",
        "O produto escalar é uma operação fundamental na geometria analítica, utilizado em diversas áreas da engenharia civil. Ele permite calcular o ângulo entre dois vetores, determinar projeções e verificar a ortogonalidade de vetores. Essas propriedades são cruciais em aplicações como a análise de forças em estruturas, onde o alinhamento ou oposição entre forças influencia diretamente a estabilidade e o desempenho das edificações. Além disso, o produto escalar é aplicado na modelagem de esforços internos em vigas e pilares, no cálculo de trabalho mecânico e em simulações de fenômenos físicos, como o transporte de materiais e fluidos. Assim, ele se apresenta como uma ferramenta indispensável para otimizar projetos e garantir a segurança e eficiência das construções.\n",
        "\n",
        "\n",
        "\n",
        "##Definição Matemática (pág. 96)\n",
        "\n",
        "\n",
        "O produto escalar é definido como o produto das intensidades entre dois vetores e do cosseno do ângulo theta entre eles, resultando em um número real (escalar).\n",
        "\n",
        "Para a resolução de um produto escalar, faz-se uso de dois métodos principais:\n",
        "\n",
        "##Método Algébrico\n",
        "\n",
        "Para a resolução através do método algébrico, multiplica-se cada coordenada semelhante dos vetores entre si, somando todos o resultados obtidos posteriormente, conseguindo assim um valor escalar final.\n",
        "\n",
        "$\\vec{v}$ = ($\\vec{v}$x, $\\vec{v}$y, $\\vec{v}$z)\n",
        "\n",
        "$\\vec{w}$ = ($\\vec{w}$x, $\\vec{w}$y, $\\vec{w}$z)\n",
        "\n",
        "$\\vec{v}$ . $\\vec{w}$ = ($\\vec{v}$x . $\\vec{w}$x + $\\vec{v}$y . $\\vec{w}$y + $\\vec{v}$z . $\\vec{w}$z)\n",
        "\n",
        "##Método Geométrico\n",
        "\n",
        "Para a resolução através do método geométrico, calcula-se o módulo de cada um dos vetores, multiplicando os resultados com o cosseno do ângulo theta entre os vetores.\n",
        "\n",
        "$\\vec{v}$ = ($\\vec{v}$x, $\\vec{v}$y, $\\vec{v}$z)\n",
        "\n",
        "$\\vec{w}$ = ($\\vec{w}$x, $\\vec{w}$y, $\\vec{w}$z)\n",
        "\n",
        "$\\vec{v}$ . $\\vec{w}$ = |$\\vec{v}$| . |$\\vec{w}$| .  cos(theta)\n",
        "\n",
        "Demonstração visual na figura abaixo:\n",
        "\n",
        "![imagem_2024-12-27_100718876.png](data:image/png;base64,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)\n",
        "\n",
        "\n",
        "**(BEER, Mecânica Vetorial Para Engenheiros - Estática - 9ª Edição, Pág. 96, Capítulo 3.9, Figura 3.19)**\n",
        "\n",
        "\n"
      ],
      "metadata": {
        "id": "m0qc8qI5K1Kf"
      }
    },
    {
      "cell_type": "code",
      "source": [
        "import numpy as np\n",
        "\n",
        "u = [10, 5]\n",
        "v = [7, 5]\n",
        "print(np.dot(u, v))\n",
        "print(np.dot(v, u))"
      ],
      "metadata": {
        "id": "i19sSXgPqOV5",
        "colab": {
          "base_uri": "https://localhost:8080/"
        },
        "outputId": "e44105a1-b3ef-4f11-ee9e-14cc364629bf"
      },
      "execution_count": null,
      "outputs": [
        {
          "output_type": "stream",
          "name": "stdout",
          "text": [
            "95\n",
            "95\n"
          ]
        }
      ]
    },
    {
      "cell_type": "markdown",
      "source": [
        "##Ângulo Entre Vetores (pág. 97)\n",
        "\n",
        "Utilizando a fórmula da resolução geométrica, isola-se o cosseno do ângulo theta, passando o módulo dos vetores para o outro lado da igualdade:\n",
        "\n",
        "cos(theta) =  $\\vec{v}$ . $\\vec{w}$ / |$\\vec{v}$| . |$\\vec{w}$|\n"
      ],
      "metadata": {
        "id": "HpxcJyBuRECE"
      }
    },
    {
      "cell_type": "code",
      "source": [
        "#Como calcular o ângulo entre dois vetores\n",
        "\n",
        "import numpy as np\n",
        "\n",
        "x = 1\n",
        "y = 1\n",
        "z = 4\n",
        "\n",
        "x2 = -1\n",
        "y2 = 2\n",
        "z2 = 2\n",
        "\n",
        "u = [x, y, z]\n",
        "v = [x2, y2, z2]\n",
        "\n",
        "res = x * x2 + y * y2 + z * z2\n",
        "\n",
        "print('O resultado do produto escalar é:', res)\n",
        "\n",
        "mod_u = np.sqrt((x**2 + y**2 + z**2))\n",
        "mod_v = np.sqrt((x2**2 + y2**2 + z2**2))\n",
        "\n",
        "print('O módulo do vetor u é: |u| =', round(mod_u, 2))\n",
        "print('O módulo do vetor v é: |v| =', round(mod_v, 2))\n",
        "\n",
        "cos_ang = res / (mod_u * mod_v)\n",
        "ang_rad = np.arccos(cos_ang)\n",
        "\n",
        "print('O ângulo entre u e v é:', round(ang_rad, 2), 'rad')\n",
        "\n",
        "ang = (ang_rad * 180) / np.pi\n",
        "\n",
        "print('O ângulo entre u e v é:', round(ang, 2), '°')"
      ],
      "metadata": {
        "id": "lg2arRczRu_6",
        "colab": {
          "base_uri": "https://localhost:8080/"
        },
        "outputId": "d971ba20-41bd-4f93-a913-d906a1083a67"
      },
      "execution_count": null,
      "outputs": [
        {
          "output_type": "stream",
          "name": "stdout",
          "text": [
            "O resultado do produto escalar é: 9\n",
            "O módulo do vetor u é: |u| = 4.24\n",
            "O módulo do vetor v é: |v| = 3.0\n",
            "O ângulo entre u e v é: 0.79 rad\n",
            "O ângulo entre u e v é: 45.0 °\n"
          ]
        }
      ]
    },
    {
      "cell_type": "markdown",
      "source": [
        "##Projeção de um vetor sobre um eixo (pág. 97)"
      ],
      "metadata": {
        "id": "lvlj5a99S5aK"
      }
    },
    {
      "cell_type": "markdown",
      "source": [
        "Consideranto um vetor $\\vec{P}$, que forma um ângulo theta com a linha orientada OL, a projeção de $\\vec{P}$ sobre OL é dada por:\n",
        "\n",
        "Proj. OL = $\\vec{P}$ . cos (theta)\n",
        "\n",
        "\n",
        "\n",
        "![pg97.png](data:image/png;base64,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)\n",
        "\n",
        "\n",
        "**(BEER, Mecânica Vetorial Para Engenheiros - Estática - 9ª Edição, Pág. 96, Capítulo 3.9, Figura 3.21)**"
      ],
      "metadata": {
        "id": "RoB5wRu5TEfZ"
      }
    },
    {
      "cell_type": "markdown",
      "source": [
        "#Tema 3 - Produto Vetorial - Concluído"
      ],
      "metadata": {
        "id": "geJKsW-1qR-Q"
      }
    },
    {
      "cell_type": "markdown",
      "source": [
        "##Aplicação Geral\n",
        "\n",
        "\n",
        "O produto vetorial tem inúmeras aplicações práticas na engenharia civil. Ele resulta em um vetor perpendicular ao plano formado por dois vetores iniciais, com magnitude proporcional à área do paralelogramo que eles definem. Essa propriedade é amplamente utilizada na análise de momentos e torques em estruturas, permitindo calcular a força rotacional aplicada a vigas, treliças e fundações. Além disso, o produto vetorial auxilia na determinação de normais a superfícies, fundamentais para estudos de estabilidade de encostas, análise de fluxos em hidráulica e no projeto de sistemas de drenagem. Sua capacidade de descrever interações tridimensionais torna-o indispensável para resolver problemas complexos em estruturas e geotecnia.\n",
        "\n",
        "\n",
        "\n",
        "##Definição Matemática (pág. 79)\n",
        "\n",
        "\n",
        "O produto vetorial de dois vetores $\\vec{P}$ e $\\vec{Q}$ vetores é definido pelo vetor $\\vec{V}$ que satisfaz às seguintes opções:\n",
        "\n",
        "1. A linha de ção de $\\vec{V}$ é perpendicular ao plno que contém $\\vec{P}$ e $\\vec{Q}$, conforme a figura abaixo:\n",
        "\n",
        "\n",
        "![imagem_2024-12-27_102726278.png](data:image/png;base64,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)\n",
        "\n",
        "**(BEER, Mecânica Vetorial Para Engenheiros - Estática - 9ª Edição, Pág. 79, Capítulo 3.4, Figura 3.6a)**\n",
        "\n",
        "\n",
        "2. A intensidade (o módulo) de $\\vec{V}$ é o produto das intensidades de $\\vec{P}$ e $\\vec{Q}$ e do seno do ângulo theta formado por $\\vec{P}$ e $\\vec{Q}$ (cujo valor será sempre menor ou igual a 180 graus), de forma que temos:\n",
        "\n",
        "$\\vec{V}$ = $\\vec{P}$ . $\\vec{Q}$ . sen(theta)\n",
        "\n",
        "Para solucionar o produto vetorial entre dois vetores $\\vec{V}$ e $\\vec{W}$, faz-se uso de dois principais métodos de resolução:\n"
      ],
      "metadata": {
        "id": "WmEwYTgXLaqe"
      }
    },
    {
      "cell_type": "markdown",
      "source": [
        "##Método dos Versores"
      ],
      "metadata": {
        "id": "1mg2E2s3R_ej"
      }
    },
    {
      "cell_type": "markdown",
      "source": [
        "\n",
        "Para a resolução através do método dos versores, primeiro precisa-se entender a lógica que rege os versores (Î, Ĵ, K̂). Quando fazemos um produto vetorial entre os versores, a ordem do produto altera no sentido(positivo ou negativo), de forma a obedecer a seguinte ordem:\n",
        "\n",
        "Para manter o sinal do produto entre os versores positivo: Î → Ĵ → K̂ → Î   \n",
        "\n",
        "\n",
        "Para que o sinal do produto entre os versores passe a ser negativo: Î → K̂ → Ĵ → Î   \n"
      ],
      "metadata": {
        "id": "f_Yq7FItPaqg"
      }
    },
    {
      "cell_type": "code",
      "source": [
        "#Cálculo do produto vetorial utilizando a função numpy.cross\n",
        "\n",
        "from numpy import cross\n",
        "\n",
        "x, y, z = (float(i) for i in input('Digite o valor das componentes x, y e z do vetor v: ').split())\n",
        "x2, y2, z2 = (float(i) for i in input('Digite o valor das componentes x, y e z do vetor w: ').split())\n",
        "\n",
        "v = [x, y, z]\n",
        "w = [x2, y2, z2]\n",
        "\n",
        "prod_vetorialvw = cross(v, w)\n",
        "prod_vetorialwv = cross(w, v)\n",
        "\n",
        "# Formatação dos resultados:\n",
        "\n",
        "prod_vetorialvw_str = '[{}, {}, {}]'.format(int(prod_vetorialvw[0]), int(prod_vetorialvw[1]), int(prod_vetorialvw[2]))\n",
        "prod_vetorialwv_str = '[{}, {}, {}]'.format(int(prod_vetorialwv[0]), int(prod_vetorialwv[1]), int(prod_vetorialwv[2]))\n",
        "\n",
        "print('v X w = ', prod_vetorialvw_str)\n",
        "print('w X v = ', prod_vetorialwv_str)"
      ],
      "metadata": {
        "colab": {
          "base_uri": "https://localhost:8080/"
        },
        "id": "3AUSCEW5Phc4",
        "outputId": "e4217eda-2490-4d0d-e936-ba688239031e"
      },
      "execution_count": null,
      "outputs": [
        {
          "output_type": "stream",
          "name": "stdout",
          "text": [
            "Digite o valor das componentes x, y e z do vetor v: 1 2 3\n",
            "Digite o valor das componentes x, y e z do vetor w: 4 5 6\n",
            "v X w =  [-3, 6, -3]\n",
            "w X v =  [3, -6, 3]\n"
          ]
        }
      ]
    },
    {
      "cell_type": "markdown",
      "source": [
        "##Método dos determinantes\n"
      ],
      "metadata": {
        "id": "XArJEeRIR3Zz"
      }
    },
    {
      "cell_type": "markdown",
      "source": [
        "\n",
        "\n",
        "\n",
        "Para a resolução através do método dos determinantes, faz-se uso da organização dos vetores em formato de matrizes, esquematizando da seguinte forma:\n",
        "\n",
        "\n",
        "![imagem_2024-12-27_104806621.png](data:image/png;base64,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)\n",
        "\n",
        "\n",
        "**(BEER, Mecânica Vetorial Para Engenheiros - Estática - 9ª Edição, Pág. 82, Capítulo 3.5, Figura 3.10)**\n",
        "\n",
        "\n"
      ],
      "metadata": {
        "id": "F3MXIfVTUu0w"
      }
    },
    {
      "cell_type": "markdown",
      "source": [
        "###Cálculo do produto vetorial entre dois vetores (pág.75)\n",
        "\n",
        "Para o cálculo do produto vetorial utilizaremos dois vetores genéricos, $\\vec{u}$=$(x_{1}, y_{1}, z_{1})$ e $\\vec{v}$=$(x_{2}, y_{2}, z_{2})$ e os vetores unitários $\\hat{i}$, $\\hat{j}$, $\\hat{k}$, então $\\vec{u}$ X $\\vec{v}$ é definido como sendo:\n",
        "\n",
        "$\\vec{u}$ X $\\vec{v}$= $\\begin{vmatrix}\n",
        "\\hat{i} & \\hat{j} &  \\hat{k}\\\\{x_{1}} &{y_{1}}  & {z_{1}} \\\\{x_{2}} & {y_{2}} & {z_{2}}\n",
        "\\end{vmatrix}$\n",
        "\n",
        "\n",
        "\n",
        "**Exemplo**: Calcular $\\vec{u}$ X $\\vec{v}$ sabendo que $\\vec{u}=5\\hat{i}+4\\hat{j}+3 \\hat{k}$ e $\\vec{v}=1\\hat{i}+1 \\hat{k}$.\n",
        "\n",
        "$\\vec{u}$ X $\\vec{v}$= $\\begin{vmatrix}\n",
        "\\hat{i} & \\hat{j} &  \\hat{k}\\\\5 &4  & 3 \\\\1 & 0 & 1\n",
        "\\end{vmatrix}$ = $\\begin{vmatrix}\n",
        "4 & 3\\\\\n",
        "0 & 1\n",
        "\\end{vmatrix}$ $\\hat{i}$ - $\\begin{vmatrix}\n",
        "5 &  3\\\\\n",
        "1 & 1\n",
        "\\end{vmatrix}$$\\hat{j}$ + $\\begin{vmatrix}\n",
        "5 &  4\\\\\n",
        "1 & 0\n",
        "\\end{vmatrix}$$\\hat{k}$ = $(4 - 0)\\hat{i}$ - $(5 - 3)\\hat{j}$ + $(0 - 4)\\hat{k}$ $= 4\\hat{i} -2 \\hat{j} - 4 \\hat{k}$ ou $(4, -2, -4)$, vetor resultante do produto vetorial."
      ],
      "metadata": {
        "id": "cqCJUpkqRGAt"
      }
    },
    {
      "cell_type": "code",
      "source": [
        "#Cálculo do produto vetorial utilizando a definição\n",
        "\n",
        "import matplotlib.pyplot as plt\n",
        "\n",
        "#Defininco os vetores u = (5, 4, 3) e v = (1, 0, 1):\n",
        "\n",
        "x = 5\n",
        "y = 4\n",
        "z = 3\n",
        "\n",
        "x2 = 1\n",
        "y2 = 0\n",
        "z2 = 1\n",
        "\n",
        "\n",
        "#Definindo o produto vetorial:\n",
        "\n",
        "vetoru = [x, y, z]\n",
        "vetorv = [x2, y2, z2]\n",
        "res_i = y * z2 - z * y2\n",
        "res_j = z * x2 - x * z2\n",
        "res_k = x * y2 - y * x2\n",
        "\n",
        "vetor_res = [res_i, res_j, res_k]\n",
        "\n",
        "#Imprimindo a matriz e o vetor resultante referente:\n",
        "\n",
        "matriz = [['i', 'j', 'k'], [x, y, z], [x2, y2, z2]]\n",
        "print(\"A matriz é: \")\n",
        "print('{}'.format(matriz[0]))\n",
        "print(matriz[1])\n",
        "print(matriz[2])\n",
        "\n",
        "print(\"O produto vetorial u X v\")\n",
        "print(\"O vetor resultante é: \", vetor_res)\n",
        "\n",
        "\n",
        "#Gráfico em 3D:\n",
        "\n",
        "fig = plt.figure()\n",
        "plt.title('Vetor resultando do produto vetorial')\n",
        "ax = plt.axes(projection='3d')\n",
        "ax.set_xlim([0, 15])\n",
        "ax.set_ylim([0, 15])\n",
        "ax.set_zlim([0, 15])\n",
        "ax.quiver(0, 0, 0, x, y, z, color='red')\n",
        "ax.quiver(0, 0, 0, x2, y2, z2, color='blue')\n",
        "ax.quiver(0, 0, 0, res_i, res_j, res_k , color='green')\n",
        "plt.savefig('figura.png')\n",
        "plt.legend(['u', 'v', 'res'], loc=1)\n",
        "plt.savefig('figura.png')\n",
        "plt.show()"
      ],
      "metadata": {
        "colab": {
          "base_uri": "https://localhost:8080/",
          "height": 556
        },
        "id": "FGBh4lTjRuhU",
        "outputId": "5aa13cd6-186f-4ca4-963f-e2d62a112fa4"
      },
      "execution_count": null,
      "outputs": [
        {
          "output_type": "stream",
          "name": "stdout",
          "text": [
            "A matriz é: \n",
            "['i', 'j', 'k']\n",
            "[5, 4, 3]\n",
            "[1, 0, 1]\n",
            "O produto vetorial u X v\n",
            "O vetor resultante é:  [4, -2, -4]\n"
          ]
        },
        {
          "output_type": "display_data",
          "data": {
            "text/plain": [
              "<Figure size 640x480 with 2 Axes>"
            ],
            "image/png": "[encoded data removed]"
          },
          "metadata": {}
        }
      ]
    },
    {
      "cell_type": "markdown",
      "source": [
        "#Tema 4 - Produto Misto - Concluído"
      ],
      "metadata": {
        "id": "Kw97FE4pqWFJ"
      }
    },
    {
      "cell_type": "markdown",
      "source": [
        "##Aplicação Geral\n",
        "\n",
        "\n",
        "O produto misto é uma operação envolvendo três vetores que combina o produto vetorial e o produto escalar, resultando em um número escalar. Esse valor representa o volume do paralelepípedo definido pelos três vetores, sendo positivo ou negativo dependendo da orientação dos vetores no espaço. Na engenharia civil, o produto misto é aplicado em cálculos de volumes de sólidos tridimensionais, como barragens, fundações e obras de terraplenagem. Ele também é útil na verificação de coplanaridade de vetores, essencial para garantir alinhamentos e a integridade estrutural em projetos.\n",
        "\n",
        "\n",
        "\n",
        "##Definição Matemática (Págs. 98 e 99)\n",
        "\n",
        "\n",
        "Um produto mistro entre três vetores $\\vec{S}$, $\\vec{P}$ e $\\vec{Q}$ é definido pela expressão escalar\n",
        "\n",
        "$\\vec{S}$ . ($\\vec{P}$ x $\\vec{Q}$)\n",
        "\n",
        "onde calcula-se primeiro o produto vetorial interno ($\\vec{P}$ x $\\vec{Q}$), e, após, calcula-se o produto escalar entre $\\vec{S}$ e o vetor $\\vec{V}$ obtido através do produto vetorial, resultando, assim, em um escalar no fim da operação. Segue abaixo a ilustração visual do produto misto:\n",
        "\n",
        "\n",
        "\n",
        "![imagem_2024-12-27_110202884.png](data:image/png;base64,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)\n",
        "\n",
        "\n",
        "**(BEER, Mecânica Vetorial Para Engenheiros - Estática - 9ª Edição, Pág. 98, Capítulo 3.10, Figura 3.24)**\n",
        "\n",
        "\n",
        "##Propriedades\n",
        "\n",
        "O produto misto é uma operação que depende da ordem da operação para a resolução (não comutativa), então temos que, caso mudemos os vetores de ordem:\n",
        "\n",
        "\n",
        "Se: ($\\vec{S}$.$\\vec{P}$X$\\vec{Q}$) = X\n",
        "\n",
        "Logo, ($\\vec{Q}$.$\\vec{P}$X$\\vec{S}$) = -X\n",
        "\n",
        "e ($\\vec{P}$.$\\vec{S}$X$\\vec{Q}$) = -X\n",
        "\n",
        "\n",
        "##Resolução da operação por meio de matriz\n",
        "\n",
        "Para a solução de um produto misto por meio de matrizes, utilizamos um método semelhante a operação do produto vetorial, onde armamos os uma matriz em que a primeira linha é composta pelas coordenadas do vetor que opera de forma escalar, e a segunda e terceira linhas compostas pelas coordenadas dos vetores que realizam a operação vetorial, onde obtemos, por fim, um escalar como resposta final. O esquema da armação é composto da seguinte forma:\n",
        "\n",
        "\n",
        "\n",
        "($\\vec{S}$.$\\vec{P}$X$\\vec{Q}$)=$\\begin{vmatrix}\n",
        "S_{x} & S_{y} & S_{z} \\\\\n",
        "P_{x} & P_{y} & P_{z} \\\\\n",
        "Q_{x} &  Q_{y}& Q_{z}\n",
        "\\end{vmatrix}$\n",
        "\n",
        "\n",
        "\n"
      ],
      "metadata": {
        "id": "zKT35y_2LbCt"
      }
    },
    {
      "cell_type": "code",
      "source": [
        "#Cálculo do produto misto entre três vetores\n",
        "\n",
        "import numpy as np\n",
        "\n",
        "def produto_misto(S, P, Q):\n",
        "\n",
        "# Calcula o produto vetorial entre u e v:\n",
        "\n",
        "    produto_vetorial = np.cross(S, P)\n",
        "\n",
        "# Calcula o produto escalar entre o produto vetorial e w:\n",
        "\n",
        "    produto_misto = np.dot(produto_vetorial, Q)\n",
        "\n",
        "    return produto_misto\n",
        "\n",
        "# Vetores de exemplo:\n",
        "\n",
        "S = np.array([1, 2, 3])\n",
        "P = np.array([4, 5, 6])\n",
        "Q = np.array([7, 8, 9])\n",
        "\n",
        "# Calcula o produto misto:\n",
        "\n",
        "resultado = produto_misto(S, P, Q)\n",
        "print(\"O produto misto entre os três vetores é:\", resultado)"
      ],
      "metadata": {
        "id": "SDBQwtOGqhCg",
        "colab": {
          "base_uri": "https://localhost:8080/"
        },
        "outputId": "641bfc77-7114-4c99-cc31-8dd3df610b3e"
      },
      "execution_count": 4,
      "outputs": [
        {
          "output_type": "stream",
          "name": "stdout",
          "text": [
            "O produto misto entre os três vetores é: 0\n"
          ]
        }
      ]
    },
    {
      "cell_type": "markdown",
      "source": [
        "#Tema 5 - A Reta"
      ],
      "metadata": {
        "id": "S0MQSiYoqZoJ"
      }
    },
    {
      "cell_type": "markdown",
      "source": [
        "##Aplicação Geral\n",
        "\n",
        "\n",
        "O estudo da reta é um dos pilares fundamentais da geometria analítica e desempenha um papel essencial na engenharia civil, onde é frequentemente utilizado para modelar elementos estruturais, trajetórias e alinhamentos. A reta pode ser representada por equações vetoriais, paramétricas ou implícitas, permitindo a descrição precisa de suas propriedades, como direção, inclinação e posição relativa a outros elementos geométricos.\n",
        "\n",
        "Na engenharia civil, esse estudo é aplicado na análise de alinhamentos em projetos de infraestrutura, como rodovias, ferrovias e redes de tubulações. Também é utilizado no cálculo de interseções entre retas e planos, fundamentais no posicionamento de pilares e vigas, além de auxiliar na otimização de trajetórias de guindastes e equipamentos de construção. O estudo da reta fornece as bases para o entendimento de relações geométricas, essenciais para garantir precisão e eficiência nos projetos.\n",
        "\n",
        "\n",
        "\n",
        "##Definição Matemática"
      ],
      "metadata": {
        "id": "Qwux1tjDMGEr"
      }
    },
    {
      "cell_type": "code",
      "source": [
        "#Determinação da equação vetorial da reta:\n",
        "\n",
        "def equacao_vetorial(ponto, vetor_direcao):\n",
        "\n",
        "# ponto é uma tupla representando as coordenadas (x1, y1, z1)\n",
        "# vetor_direcao é uma tupla representando as coordenadas (a, b, c)\n",
        "\n",
        "# Função para formatar a equação vetorial\n",
        "    def formatar_equacao(x, y, z):\n",
        "        return f\"(x, y, z) = ({ponto[0]}, {ponto[1]}, {ponto[2]}) + t({vetor_direcao[0]}, {vetor_direcao[1]}, {vetor_direcao[2]})\"\n",
        "\n",
        "# Calculando as coordenadas x, y, z da equação vetorial\n",
        "    x = f\"{ponto[0]} + t * {vetor_direcao[0]}\"\n",
        "    y = f\"{ponto[1]} + t * {vetor_direcao[1]}\"\n",
        "    z = f\"{ponto[2]} + t * {vetor_direcao[2]}\"\n",
        "\n",
        "    return formatar_equacao(x, y, z)\n",
        "\n",
        "# Pontos fornecidos\n",
        "ponto_passagem = (2, 3, 2)\n",
        "vetor_direcao = (1, -1, 4)\n",
        "\n",
        "# Calculando e exibindo a equação vetorial da reta:\n",
        "\n",
        "equacao = equacao_vetorial(ponto_passagem, vetor_direcao)\n",
        "print(\"Equação vetorial da reta:\")\n",
        "print(equacao)"
      ],
      "metadata": {
        "id": "mh5oSS4Bx0zv",
        "colab": {
          "base_uri": "https://localhost:8080/"
        },
        "outputId": "7b8f3eb5-6c75-4620-b017-7ebace453a08"
      },
      "execution_count": 1,
      "outputs": [
        {
          "output_type": "stream",
          "name": "stdout",
          "text": [
            "Equação vetorial da reta:\n",
            "(x, y, z) = (2, 3, 2) + t(1, -1, 4)\n"
          ]
        }
      ]
    },
    {
      "cell_type": "code",
      "source": [
        "#Determinação da paramétrica da reta e determinação do coeficiente d:\n",
        "\n",
        "def equacoes_parametricas(ponto, vetor_direcao):\n",
        "    # ponto é uma tupla representando as coordenadas (x1, y1, z1)\n",
        "    # vetor_direcao é uma tupla representando as coordenadas (a, b, c)\n",
        "\n",
        "    # Equações paramétricas\n",
        "    x = f\"{ponto[0]} + t * {vetor_direcao[0]}\"\n",
        "    y = f\"{ponto[1]} + t * {vetor_direcao[1]}\"\n",
        "    z = f\"{ponto[2]} + t * {vetor_direcao[2]}\"\n",
        "\n",
        "    return x, y, z\n",
        "\n",
        "# Pontos fornecidos\n",
        "ponto_passagem = (2, 3, -4)\n",
        "vetor_direcao = (1, -2, 3)\n",
        "\n",
        "# Equações paramétricas da reta\n",
        "x_param, y_param, z_param = equacoes_parametricas(ponto_passagem, vetor_direcao)\n",
        "print(\"a) Equações paramétricas da reta:\")\n",
        "print(f\"x = {x_param}, y = {y_param}, z = {z_param}\")\n",
        "\n",
        "def ponto_na_reta(ponto, vetor_direcao, t):\n",
        "    # Encontrar o ponto na reta para o parâmetro t dado\n",
        "    x = ponto[0] + t * vetor_direcao[0]\n",
        "    y = ponto[1] + t * vetor_direcao[1]\n",
        "    z = ponto[2] + t * vetor_direcao[2]\n",
        "\n",
        "    return x, y, z\n",
        "\n",
        "# Pontos fornecidos\n",
        "ponto_passagem = (2, 3, -4)\n",
        "vetor_direcao = (1, -2, 3)\n",
        "\n",
        "# Parâmetro t\n",
        "t = 1\n",
        "\n",
        "# Encontrar o ponto na reta para o parâmetro t dado\n",
        "ponto_t = ponto_na_reta(ponto_passagem, vetor_direcao, t)\n",
        "print(f\"b) Ponto na reta para t = {t}: {ponto_t}\")"
      ],
      "metadata": {
        "id": "1mZhluOvx_E9"
      },
      "execution_count": null,
      "outputs": []
    },
    {
      "cell_type": "code",
      "source": [
        "#Determinação das equações simétricas da reta:\n",
        "\n",
        "def equacoes_simetricas_da_reta(ponto, vetor_diretor):\n",
        "    # Extrai as coordenadas do ponto e do vetor diretor\n",
        "    x0, y0, z0 = ponto\n",
        "    a, b, c = vetor_diretor\n",
        "\n",
        "# Equações simétricas da reta (fórmula):\n",
        "\n",
        "# (x - x0) / a = (y - y0) / b = (z - z0) / c\n",
        "\n",
        "# Realiza o jogo de sinais caso uma das coordenadas seja negativa:\n",
        "\n",
        "    if a < 0:\n",
        "        x0 *= -1\n",
        "        a *= -1\n",
        "    if b < 0:\n",
        "        y0 *= -1\n",
        "        b *= -1\n",
        "    if c < 0:\n",
        "        z0 *= -1\n",
        "        c *= -1\n",
        "\n",
        "    # Simplifica as equações simétricas\n",
        "    equacoes_simetricas = []\n",
        "    if a != 0:\n",
        "        equacoes_simetricas.append(f\"(x - {x0}) / {a}\")\n",
        "    if b != 0:\n",
        "        equacoes_simetricas.append(f\"(y - {y0}) / {b}\")\n",
        "    if c != 0:\n",
        "        equacoes_simetricas.append(f\"(z - {z0}) / {c}\")\n",
        "\n",
        "    return equacoes_simetricas\n",
        "\n",
        "# Ponto A e vetor diretor v\n",
        "ponto_A = (3, 0, -5)\n",
        "vetor_v = (2, 2, -1)\n",
        "\n",
        "# Calcula as equações simétricas da reta\n",
        "equacoes_simetricas = equacoes_simetricas_da_reta(ponto_A, vetor_v)\n",
        "\n",
        "# Imprime as equações simétricas\n",
        "print(\"Equações simétricas da reta:\")\n",
        "for i, eq in enumerate(equacoes_simetricas):\n",
        "    if i != len(equacoes_simetricas) - 1:\n",
        "        print(eq, end=\" = \")\n",
        "    else:\n",
        "        print(eq, end=\"\")"
      ],
      "metadata": {
        "id": "rgc-23rryEaE"
      },
      "execution_count": null,
      "outputs": []
    },
    {
      "cell_type": "markdown",
      "source": [
        "#Tema 6 - O Plano"
      ],
      "metadata": {
        "id": "8BWPQobGqaxI"
      }
    },
    {
      "cell_type": "markdown",
      "source": [
        "##Aplicação Geral\n",
        "\n",
        "\n",
        "O estudo do plano é uma área essencial da geometria analítica, com aplicações diretas na engenharia civil, onde muitas superfícies e elementos construtivos podem ser idealizados como planos. Um plano é definido por uma equação linear envolvendo três variáveis ou por pontos e vetores que determinam sua posição e orientação no espaço. Suas propriedades permitem analisar a interação com outros elementos geométricos, como retas e sólidos, além de calcular ângulos, projeções e distâncias.\n",
        "\n",
        "Na engenharia civil, o estudo do plano é crucial para a modelagem de lajes, paredes e superfícies de contato entre materiais. Ele também é utilizado na análise de estabilidade de taludes, na determinação de inclinações de terrenos para drenagem, no alinhamento de fundações e na otimização de cortes e aterros em obras de terraplenagem. A compreensão das relações geométricas do plano é indispensável para garantir a precisão e a segurança nos projetos construtivos e estruturais.\n",
        "\n",
        "\n",
        "\n",
        "##Definição Matemática"
      ],
      "metadata": {
        "id": "FdLuo0rcMGry"
      }
    },
    {
      "cell_type": "code",
      "source": [
        "#Encontrar a equação geral do plano.\n",
        "\n",
        "\n",
        "def equation_of_plane(point, normal_vector):\n",
        "\n",
        "# Extrair as coordenadas do ponto:\n",
        "\n",
        "    x, y, z = point\n",
        "\n",
        "# Extrair as componentes do vetor normal:\n",
        "\n",
        "    a, b, c = normal_vector\n",
        "\n",
        "# Calcular o valor de d: ax + by + cz + d = 0:\n",
        "\n",
        "    d = - (a*x + b*y + c*z)\n",
        "\n",
        "# Converter os valores para string com seus sinais adequados:\n",
        "\n",
        "    a_str = str(a) if a <= 0 else f\"{a}\"\n",
        "    b_str = str(b) if b <= 0 else f\"+{b}\"\n",
        "    c_str = str(c) if c <= 0 else f\"+{c}\"\n",
        "    d_str = str(d) if d <= 0 else f\"+{d}\"\n",
        "\n",
        "# Retornar a equação geral do plano:\n",
        "\n",
        "    return f\"{a_str}x {b_str}y {c_str}z {d_str} = 0\"\n",
        "\n",
        "# Ponto dado:\n",
        "\n",
        "point_A = (2, 1, 3)\n",
        "\n",
        "# Vetor normal dado n(3,2,-4):\n",
        "\n",
        "normal_vector = (3, -4, -2)\n",
        "\n",
        "# Calcular a equação geral do plano\n",
        "equation = equation_of_plane(point_A, normal_vector)\n",
        "\n",
        "print(\"Equação geral do plano π:\", equation)"
      ],
      "metadata": {
        "id": "7LKDStX4Z2iK"
      },
      "execution_count": null,
      "outputs": []
    },
    {
      "cell_type": "code",
      "source": [
        "#Encontrar a equação paramétrica do plano.\n",
        "\n",
        "#Ponto A fornecido:\n",
        "\n",
        "x0, y0, z0 = 2, 2, -1\n",
        "\n",
        "#Vetores paralelos ao plano:\n",
        "\n",
        "a1, b1, c1 = 2, -3, 1\n",
        "a2, b2, c2 = -1, 5, -3\n",
        "\n",
        "#Equações paramétricas do plano:\n",
        "\n",
        "equacoes_parametricas = [\n",
        "    \"x = {} {} {}h {} {}t\".format(x0, \"+\" if a1 >= 0 else \"-\", abs(a1), \"+\" if a2 >= 0 else \"-\", abs(a2)),\n",
        "    \"y = {} {} {}h {} {}t\".format(y0, \"+\" if b1 >= 0 else \"-\", abs(b1), \"+\" if b2 >= 0 else \"-\", abs(b2)),\n",
        "    \"z = {} {} {}h {} {}t\".format(z0, \"+\" if c1 >= 0 else \"-\", abs(c1), \"+\" if c2 >= 0 else \"-\", abs(c2))\n",
        "]\n",
        "\n",
        "# Imprimir as equações paramétricas no formato adequado:\n",
        "\n",
        "print(\"Equações paramétricas do plano π:\")\n",
        "for equacao in equacoes_parametricas:\n",
        "    print(equacao)"
      ],
      "metadata": {
        "id": "cnsi5dcYqgeQ"
      },
      "execution_count": null,
      "outputs": []
    },
    {
      "cell_type": "markdown",
      "source": [
        "#Tema 7 - Distâncias"
      ],
      "metadata": {
        "id": "VwIk641BqcYA"
      }
    },
    {
      "cell_type": "markdown",
      "source": [
        "##Aplicação Geral\n",
        "\n",
        "\n",
        "O estudo de distâncias é um tópico central na geometria analítica e tem ampla aplicação na engenharia civil, onde a medição precisa de distâncias é essencial para garantir a funcionalidade e segurança de projetos. As fórmulas para calcular distâncias entre pontos, retas e planos permitem determinar alinhamentos, alturas, afastamentos e tolerâncias fundamentais no planejamento e execução de obras.\n",
        "\n",
        "Na engenharia civil, o estudo de distâncias é aplicado em diversas situações, como no cálculo de espaçamentos entre estruturas, na avaliação da proximidade entre fundações e redes subterrâneas, e na determinação de áreas de influência em projetos de drenagem e escavação. Além disso, ele é usado para avaliar a perpendicularidade de elementos estruturais, como vigas e colunas, e para verificar a conformidade de projetos com normas técnicas. O domínio dessas técnicas geométricas é indispensável para garantir precisão e eficiência em todas as etapas do processo construtivo.\n",
        "\n",
        "\n",
        "\n"
      ],
      "metadata": {
        "id": "evgNkU8lMHEi"
      }
    },
    {
      "cell_type": "markdown",
      "source": [
        "##Distância entre dois pontos\n",
        "\n",
        "A distância entre dois pontos é baseada no Teorema de Pitágoras, onde temos que: a distância entre um ponto A e um ponto B é dada através da seguinte equação:\n",
        "\n",
        "\n",
        "Se: A = $(A_{X}, A_{Y}, A_{Z})$\n",
        "\n",
        "e B = $(B_{X}, B_{Y}, B_{Z})$\n",
        "\n",
        "\n",
        " Então:\n",
        "\n",
        "d(AB) = $\\sqrt{(B_{X}-A_{X}^{2}+(B_{Y}-A_{Y})^{2}+(B_{Z}-A_{Z})^{2}}$\n",
        "\n",
        "Analisando a imagem abaixo, e substituindo os valores de X, Y e Z dos pontos A e B pelos valores dados, temos que a operação é dada por:\n",
        "\n",
        "![pg94.png](data:image/png;base64,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)\n",
        "\n",
        "\n",
        "A = $(-0.75, 0, 6)$\n",
        "\n",
        "B = $(0, 7, 0)$\n",
        "\n",
        "\n",
        " Então:\n",
        "\n",
        "d(AB) = $\\sqrt{(0 - (-0.75)^{2}+(7 - 0)^{2}+(0 - 6)^{2}}$\n",
        "\n",
        "d(AB) = $\\sqrt{85.5625}$\n",
        "\n",
        "d(AB) ≈ 9.25 unidades."
      ],
      "metadata": {
        "id": "K3sPLVxFaBbh"
      }
    },
    {
      "cell_type": "code",
      "source": [
        "import math\n",
        "\n",
        "# Coordenadas dos pontos (invertendo a ordem)\n",
        "x1, y1, z1 = -0.75, 0, 6\n",
        "x2, y2, z2 = 0, 7, 0\n",
        "\n",
        "# Cálculo das diferenças\n",
        "dx = x2 - x1\n",
        "dy = y2 - y1\n",
        "dz = z2 - z1\n",
        "\n",
        "# Soma dos quadrados das diferenças\n",
        "soma_quadrados = dx**2 + dy**2 + dz**2\n",
        "\n",
        "# Raiz quadrada da soma\n",
        "distancia = math.sqrt(soma_quadrados)\n",
        "\n",
        "# Exibição do resultado\n",
        "print(f\"A distância entre os pontos é aproximadamente {distancia:.2f} unidades.\")\n"
      ],
      "metadata": {
        "colab": {
          "base_uri": "https://localhost:8080/"
        },
        "id": "QKmpF4NNaQ8Q",
        "outputId": "bb8c90b6-983f-450d-904f-b332b54b8501"
      },
      "execution_count": 6,
      "outputs": [
        {
          "output_type": "stream",
          "name": "stdout",
          "text": [
            "A distância entre os pontos é aproximadamente 9.25 unidades.\n"
          ]
        }
      ]
    },
    {
      "cell_type": "markdown",
      "source": [
        "##Distância entre um ponto e uma reta ou um plano"
      ],
      "metadata": {
        "id": "Mr1rggLBaBHZ"
      }
    },
    {
      "cell_type": "code",
      "source": [
        "#Cálculo da distância entre um ponto e um plano.\n",
        "\n",
        "import numpy as np\n",
        "\n",
        "def distancia_ponto_para_plano(ponto, coeficientes_plano):\n",
        "\n",
        "#Converte os pontos para arrays numpy para facilitar os cálculos:\n",
        "\n",
        "    ponto = np.array(ponto)\n",
        "    coeficientes_plano = np.array(coeficientes_plano)\n",
        "\n",
        "#Coeficientes do plano:\n",
        "\n",
        "    a, b, c, d = coeficientes_plano\n",
        "\n",
        "#Fórmula para calcula a distância entre o ponto e o plano:\n",
        "\n",
        "    distancia = np.abs((a*ponto[0] + b*ponto[1] + c*ponto[2] + d)) / np.sqrt(a**2 + b**2 + c**2)\n",
        "\n",
        "    return distancia\n",
        "\n",
        "#Coeficientes do plano: π: 2x + 3y - 6z + 3 = 0\n",
        "\n",
        "coeficientes_plano = [2, 3, -6, 3]\n",
        "\n",
        "#Ponto P:\n",
        "\n",
        "ponto_P = [4, 2, -3]\n",
        "\n",
        "#Calcula a distância entre o ponto P e o plano π:\n",
        "\n",
        "distancia = distancia_ponto_para_plano(ponto_P, coeficientes_plano)\n",
        "\n",
        "print(\"A distância entre o ponto P e o plano π é:\", distancia)"
      ],
      "metadata": {
        "id": "teeIn5puaQnZ"
      },
      "execution_count": null,
      "outputs": []
    },
    {
      "cell_type": "markdown",
      "source": [
        "##Distância entre duas retas"
      ],
      "metadata": {
        "id": "VSx5iXxDaAZB"
      }
    },
    {
      "cell_type": "code",
      "source": [
        "#Cálculo da distância entre duas retas.\n",
        "\n",
        "import numpy as np\n",
        "\n",
        "#Criando a função:\n",
        "\n",
        "def distancia_entre_retas(x1, y1, z1, a1, b1, c1, x2, y2, z2, a2, b2, c2):\n",
        "\n",
        "#Descrição das variáveis:\n",
        "\n",
        "#(x1, y1, z1) são as coordenadas do ponto 1\n",
        "#(a1, b1, c1) são as coordenadas do vetor diretor da reta 1\n",
        "\n",
        "#(x2, y2, z2) são as coordenadas do ponto 2\n",
        "#(a2, b2, c2) são as coordenadas do vetor diretor da reta 2\n",
        "\n",
        "# Define os vetores diretores das retas:\n",
        "\n",
        "    vetor_diretor_1 = np.array([a1, b1, c1])\n",
        "    vetor_diretor_2 = np.array([a2, b2, c2])\n",
        "\n",
        "# Calcula o vetor entre um ponto em uma reta e outro ponto na outra reta:\n",
        "\n",
        "    vetor_entre_pontos = np.array([x2 - x1, y2 - y1, z2 - z1])\n",
        "\n",
        "# Calcula a distância entre as retas usando a fórmula:\n",
        "\n",
        "    distancia = np.abs(np.dot(vetor_entre_pontos, np.cross(vetor_diretor_1, vetor_diretor_2))) / np.linalg.norm(np.cross(vetor_diretor_1, vetor_diretor_2))\n",
        "\n",
        "    return distancia\n",
        "\n",
        "# Exemplo:\n",
        "\n",
        "x1, y1, z1 = -1, 3, -1\n",
        "a1, b1, c1 = 1, -2, -1\n",
        "x2, y2, z2 = 0, -3, 1\n",
        "a2, b2, c2 = 1, 1, -1\n",
        "\n",
        "distancia = distancia_entre_retas(x1, y1, z1, a1, b1, c1, x2, y2, z2, a2, b2, c2)\n",
        "print(\"A distância entre as retas é:\", distancia)"
      ],
      "metadata": {
        "id": "-u_dwZOcqgMo"
      },
      "execution_count": null,
      "outputs": []
    },
    {
      "cell_type": "markdown",
      "source": [
        "#Tema 8 - Cônicas"
      ],
      "metadata": {
        "id": "uatNCtOFqdpw"
      }
    },
    {
      "cell_type": "markdown",
      "source": [
        "##Aplicação Geral\n",
        "\n",
        "\n",
        "O estudo das cônicas — elipse, parábola e hipérbole — é uma área da geometria analítica com aplicações significativas na engenharia civil. Essas curvas resultam da interseção de um plano com um cone e possuem propriedades geométricas que tornam seu estudo indispensável para diversos projetos e análises estruturais.\n",
        "\n",
        "Na engenharia civil, as cônicas aparecem no design e análise de elementos arquitetônicos e estruturais. A elipse, por exemplo, é utilizada no dimensionamento de arcos e domos, proporcionando resistência e eficiência estrutural. A parábola é amplamente aplicada em projetos de pontes, aquedutos e superfícies refletoras, como em sistemas de iluminação natural. Já a hipérbole surge em projetos de torres e em estudos de propagação de ondas em solos.\n",
        "\n",
        "Além disso, as cônicas são essenciais na análise de estabilidade de taludes e em cálculos de distribuição de esforços em elementos curvos. Compreender suas propriedades permite integrar beleza, funcionalidade e segurança nos projetos de engenharia civil.\n",
        "\n",
        "\n",
        "\n",
        "##Definição Matemática"
      ],
      "metadata": {
        "id": "ioKhQZorMHha"
      }
    },
    {
      "cell_type": "code",
      "source": [
        "#Placeholder"
      ],
      "metadata": {
        "id": "HLIwannRqf1g"
      },
      "execution_count": null,
      "outputs": []
    },
    {
      "cell_type": "markdown",
      "source": [
        "#Tema 9 - Superfícies Quádricas"
      ],
      "metadata": {
        "id": "6UvXjhY-qeYg"
      }
    },
    {
      "cell_type": "markdown",
      "source": [
        "##Aplicação Geral\n",
        "\n",
        "\n",
        "O estudo das superfícies quádricas é uma extensão da geometria analítica que engloba formas tridimensionais definidas por equações quadráticas. Entre as superfícies mais comuns estão a esfera, o cilindro elíptico, o cone elíptico, o paraboloide (elíptico e hiperbólico) e o hiperboloide (de uma ou duas folhas). Essas superfícies possuem propriedades geométricas específicas que as tornam fundamentais para aplicações práticas na engenharia civil.\n",
        "\n",
        "Na engenharia civil, superfícies quádricas são frequentemente utilizadas no projeto de estruturas como reservatórios esféricos, cúpulas geodésicas, abóbadas, arcos e torres parabólicas. Elas também aparecem em análises de estabilidade de taludes e em modelagens avançadas de elementos estruturais submetidos a esforços tridimensionais. O hiperboloide, por exemplo, é aplicado em torres de resfriamento devido à sua eficiência estrutural e aerodinâmica.\n",
        "\n",
        "Além disso, as superfícies quádricas são utilizadas em ferramentas de modelagem computacional para otimizar projetos complexos, integrar análises geométricas e resolver problemas espaciais. O domínio desse estudo permite que engenheiros combinem estética, funcionalidade e eficiência em projetos arquitetônicos e estruturais inovadores.\n",
        "\n",
        "\n",
        "\n",
        "##Definição Matemática"
      ],
      "metadata": {
        "id": "k_7Vz37bMH56"
      }
    },
    {
      "cell_type": "code",
      "source": [
        "#Placeholder"
      ],
      "metadata": {
        "id": "UEBSvK5nqfYU"
      },
      "execution_count": null,
      "outputs": []
    }
  ]
}