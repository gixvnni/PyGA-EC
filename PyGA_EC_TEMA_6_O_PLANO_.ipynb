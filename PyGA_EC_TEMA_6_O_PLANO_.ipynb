{
  "nbformat": 4,
  "nbformat_minor": 0,
  "metadata": {
    "colab": {
      "provenance": [],
      "authorship_tag": "ABX9TyPu7YE77eEkVXHEhpy2eMt2",
      "include_colab_link": true
    },
    "kernelspec": {
      "name": "python3",
      "display_name": "Python 3"
    },
    "language_info": {
      "name": "python"
    }
  },
  "cells": [
    {
      "cell_type": "markdown",
      "metadata": {
        "id": "view-in-github",
        "colab_type": "text"
      },
      "source": [
        "<a href=\"https://colab.research.google.com/github/gixvnni/PyGA-EC/blob/main/PyGA_EC_TEMA_6_O_PLANO_.ipynb\" target=\"_parent\"><img src=\"https://colab.research.google.com/assets/colab-badge.svg\" alt=\"Open In Colab\"/></a>"
      ]
    },
    {
      "cell_type": "markdown",
      "source": [
        "#Tema 6 - O Plano - Introdução e Demonstração em Python"
      ],
      "metadata": {
        "id": "8BWPQobGqaxI"
      }
    },
    {
      "cell_type": "markdown",
      "source": [
        "##Aplicação Geral\n",
        "\n",
        "\n",
        "O estudo do plano é uma área essencial da geometria analítica, com aplicações diretas na engenharia civil, onde muitas superfícies e elementos construtivos podem ser idealizados como planos. Um plano é definido por uma equação linear envolvendo três variáveis ou por pontos e vetores que determinam sua posição e orientação no espaço. Suas propriedades permitem analisar a interação com outros elementos geométricos, como retas e sólidos, além de calcular ângulos, projeções e distâncias.\n",
        "\n",
        "Na engenharia civil, o estudo do plano é crucial para a modelagem de lajes, paredes e superfícies de contato entre materiais. Ele também é utilizado na análise de estabilidade de taludes, na determinação de inclinações de terrenos para drenagem, no alinhamento de fundações e na otimização de cortes e aterros em obras de terraplenagem. A compreensão das relações geométricas do plano é indispensável para garantir a precisão e a segurança nos projetos construtivos e estruturais.\n",
        "\n",
        "\n",
        "\n",
        "##Definição Matemática"
      ],
      "metadata": {
        "id": "FdLuo0rcMGry"
      }
    },
    {
      "cell_type": "code",
      "source": [
        "#Encontrar a equação geral do plano.\n",
        "\n",
        "\n",
        "def equation_of_plane(point, normal_vector):\n",
        "\n",
        "# Extrair as coordenadas do ponto:\n",
        "\n",
        "    x, y, z = point\n",
        "\n",
        "# Extrair as componentes do vetor normal:\n",
        "\n",
        "    a, b, c = normal_vector\n",
        "\n",
        "# Calcular o valor de d: ax + by + cz + d = 0:\n",
        "\n",
        "    d = - (a*x + b*y + c*z)\n",
        "\n",
        "# Converter os valores para string com seus sinais adequados:\n",
        "\n",
        "    a_str = str(a) if a <= 0 else f\"{a}\"\n",
        "    b_str = str(b) if b <= 0 else f\"+{b}\"\n",
        "    c_str = str(c) if c <= 0 else f\"+{c}\"\n",
        "    d_str = str(d) if d <= 0 else f\"+{d}\"\n",
        "\n",
        "# Retornar a equação geral do plano:\n",
        "\n",
        "    return f\"{a_str}x {b_str}y {c_str}z {d_str} = 0\"\n",
        "\n",
        "# Ponto dado:\n",
        "\n",
        "point_A = (2, 1, 3)\n",
        "\n",
        "# Vetor normal dado n(3,2,-4):\n",
        "\n",
        "normal_vector = (3, -4, -2)\n",
        "\n",
        "# Calcular a equação geral do plano\n",
        "equation = equation_of_plane(point_A, normal_vector)\n",
        "\n",
        "print(\"Equação geral do plano π:\", equation)"
      ],
      "metadata": {
        "id": "7LKDStX4Z2iK"
      },
      "execution_count": null,
      "outputs": []
    },
    {
      "cell_type": "code",
      "source": [
        "#Encontrar a equação paramétrica do plano.\n",
        "\n",
        "#Ponto A fornecido:\n",
        "\n",
        "x0, y0, z0 = 2, 2, -1\n",
        "\n",
        "#Vetores paralelos ao plano:\n",
        "\n",
        "a1, b1, c1 = 2, -3, 1\n",
        "a2, b2, c2 = -1, 5, -3\n",
        "\n",
        "#Equações paramétricas do plano:\n",
        "\n",
        "equacoes_parametricas = [\n",
        "    \"x = {} {} {}h {} {}t\".format(x0, \"+\" if a1 >= 0 else \"-\", abs(a1), \"+\" if a2 >= 0 else \"-\", abs(a2)),\n",
        "    \"y = {} {} {}h {} {}t\".format(y0, \"+\" if b1 >= 0 else \"-\", abs(b1), \"+\" if b2 >= 0 else \"-\", abs(b2)),\n",
        "    \"z = {} {} {}h {} {}t\".format(z0, \"+\" if c1 >= 0 else \"-\", abs(c1), \"+\" if c2 >= 0 else \"-\", abs(c2))\n",
        "]\n",
        "\n",
        "# Imprimir as equações paramétricas no formato adequado:\n",
        "\n",
        "print(\"Equações paramétricas do plano π:\")\n",
        "for equacao in equacoes_parametricas:\n",
        "    print(equacao)"
      ],
      "metadata": {
        "id": "cnsi5dcYqgeQ"
      },
      "execution_count": null,
      "outputs": []
    }
  ]
}