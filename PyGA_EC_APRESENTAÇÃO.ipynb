{
  "nbformat": 4,
  "nbformat_minor": 0,
  "metadata": {
    "colab": {
      "provenance": [],
      "authorship_tag": "ABX9TyNOVSkbW7fjX9gyisAspDl5",
      "include_colab_link": true
    },
    "kernelspec": {
      "name": "python3",
      "display_name": "Python 3"
    },
    "language_info": {
      "name": "python"
    }
  },
  "cells": [
    {
      "cell_type": "markdown",
      "metadata": {
        "id": "view-in-github",
        "colab_type": "text"
      },
      "source": [
        "<a href=\"https://colab.research.google.com/github/gixvnni/PyGA-EC/blob/main/PyGA_EC_APRESENTA%C3%87%C3%83O.ipynb\" target=\"_parent\"><img src=\"https://colab.research.google.com/assets/colab-badge.svg\" alt=\"Open In Colab\"/></a>"
      ]
    },
    {
      "cell_type": "markdown",
      "source": [
        "## Projeto 1:\n",
        "\n",
        "Alinhamento dos conhecimentos da disciplina de Geometria Analítica, utilização da linguagem de programação Python, e suas aplicações nas diversas áreas da Engenharia Civil. Para um maior aprofundamento na disciplina de Geometria Analítica, acesse [PyGA](https://github.com/Allan-Luka/PyGA/blob/main/cap01_vetores.ipynb)."
      ],
      "metadata": {
        "id": "SjgLHhJHpam0"
      }
    },
    {
      "cell_type": "markdown",
      "source": [
        "#Apresentação geral\n",
        "Este produto foi desenvolvido no âmbito do Projeto da disciplina de Monitoria de Geometria Analítica.\n",
        "\n",
        "Na Engenharia Civil, a aplicação de conceitos matemáticos e geométricos é fundamental para a concepção, análise e execução de projetos. Com base nisso, este projeto visa o alinhamento desses conhecimentos com as aplicações gerais nas diversas áreas abrangidas pela Engenharia Civil, bem como o entendimento básico de ferramentas de programação como auxiliadores nesse estudo, utilizando como base o livro \"Mecânica Vetorial para Engenheiros\", em sua 9ª edição, utilizado na disciplina de Mecânica dos Sólidos 1 (EPRS122/ECIS134), do terceiro período, para a exemplificação na Engenharia Civil."
      ],
      "metadata": {
        "id": "oq__mJBNp9py"
      }
    }
  ]
}