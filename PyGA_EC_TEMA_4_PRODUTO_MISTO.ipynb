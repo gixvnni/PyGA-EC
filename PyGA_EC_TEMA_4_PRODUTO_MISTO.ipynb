{
  "nbformat": 4,
  "nbformat_minor": 0,
  "metadata": {
    "colab": {
      "provenance": [],
      "authorship_tag": "ABX9TyPbP5J+yj+34jva+gtwuX4m",
      "include_colab_link": true
    },
    "kernelspec": {
      "name": "python3",
      "display_name": "Python 3"
    },
    "language_info": {
      "name": "python"
    }
  },
  "cells": [
    {
      "cell_type": "markdown",
      "metadata": {
        "id": "view-in-github",
        "colab_type": "text"
      },
      "source": [
        "<a href=\"https://colab.research.google.com/github/gixvnni/PyGA-EC/blob/main/PyGA_EC_TEMA_4_PRODUTO_MISTO.ipynb\" target=\"_parent\"><img src=\"https://colab.research.google.com/assets/colab-badge.svg\" alt=\"Open In Colab\"/></a>"
      ]
    },
    {
      "cell_type": "markdown",
      "source": [
        "#Tema 4 - Produto Misto - Concluído"
      ],
      "metadata": {
        "id": "Kw97FE4pqWFJ"
      }
    },
    {
      "cell_type": "markdown",
      "source": [
        "##Aplicação Geral\n",
        "\n",
        "\n",
        "O produto misto é uma operação envolvendo três vetores que combina o produto vetorial e o produto escalar, resultando em um número escalar. Esse valor representa o volume do paralelepípedo definido pelos três vetores, sendo positivo ou negativo dependendo da orientação dos vetores no espaço. Na engenharia civil, o produto misto é aplicado em cálculos de volumes de sólidos tridimensionais, como barragens, fundações e obras de terraplenagem. Ele também é útil na verificação de coplanaridade de vetores, essencial para garantir alinhamentos e a integridade estrutural em projetos.\n",
        "\n",
        "\n",
        "\n",
        "##Definição Matemática (Págs. 98 e 99)\n",
        "\n",
        "\n",
        "Um produto mistro entre três vetores $\\vec{S}$, $\\vec{P}$ e $\\vec{Q}$ é definido pela expressão escalar\n",
        "\n",
        "$\\vec{S}$ . ($\\vec{P}$ x $\\vec{Q}$)\n",
        "\n",
        "onde calcula-se primeiro o produto vetorial interno ($\\vec{P}$ x $\\vec{Q}$), e, após, calcula-se o produto escalar entre $\\vec{S}$ e o vetor $\\vec{V}$ obtido através do produto vetorial, resultando, assim, em um escalar no fim da operação. Segue abaixo a ilustração visual do produto misto:\n",
        "\n",
        "\n",
        "\n",
        "![imagem_2024-12-27_110202884.png](data:image/png;base64,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)\n",
        "\n",
        "\n",
        "**(BEER, Mecânica Vetorial Para Engenheiros - Estática - 9ª Edição, Pág. 98, Capítulo 3.10, Figura 3.24)**\n",
        "\n",
        "\n",
        "##Propriedades\n",
        "\n",
        "O produto misto é uma operação que depende da ordem da operação para a resolução (não comutativa), então temos que, caso mudemos os vetores de ordem:\n",
        "\n",
        "\n",
        "Se: ($\\vec{S}$.$\\vec{P}$X$\\vec{Q}$) = X\n",
        "\n",
        "Logo, ($\\vec{Q}$.$\\vec{P}$X$\\vec{S}$) = -X\n",
        "\n",
        "e ($\\vec{P}$.$\\vec{S}$X$\\vec{Q}$) = -X\n",
        "\n",
        "\n",
        "##Resolução da operação por meio de matriz\n",
        "\n",
        "Para a solução de um produto misto por meio de matrizes, utilizamos um método semelhante a operação do produto vetorial, onde armamos os uma matriz em que a primeira linha é composta pelas coordenadas do vetor que opera de forma escalar, e a segunda e terceira linhas compostas pelas coordenadas dos vetores que realizam a operação vetorial, onde obtemos, por fim, um escalar como resposta final. O esquema da armação é composto da seguinte forma:\n",
        "\n",
        "\n",
        "\n",
        "($\\vec{S}$.$\\vec{P}$X$\\vec{Q}$)=$\\begin{vmatrix}\n",
        "S_{x} & S_{y} & S_{z} \\\\\n",
        "P_{x} & P_{y} & P_{z} \\\\\n",
        "Q_{x} &  Q_{y}& Q_{z}\n",
        "\\end{vmatrix}$\n",
        "\n",
        "\n",
        "\n"
      ],
      "metadata": {
        "id": "zKT35y_2LbCt"
      }
    },
    {
      "cell_type": "code",
      "source": [
        "#Cálculo do produto misto entre três vetores\n",
        "\n",
        "import numpy as np\n",
        "\n",
        "def produto_misto(S, P, Q):\n",
        "\n",
        "# Calcula o produto vetorial entre u e v:\n",
        "\n",
        "    produto_vetorial = np.cross(S, P)\n",
        "\n",
        "# Calcula o produto escalar entre o produto vetorial e w:\n",
        "\n",
        "    produto_misto = np.dot(produto_vetorial, Q)\n",
        "\n",
        "    return produto_misto\n",
        "\n",
        "# Vetores de exemplo:\n",
        "\n",
        "S = np.array([1, 2, 3])\n",
        "P = np.array([4, 5, 6])\n",
        "Q = np.array([7, 8, 9])\n",
        "\n",
        "# Calcula o produto misto:\n",
        "\n",
        "resultado = produto_misto(S, P, Q)\n",
        "print(\"O produto misto entre os três vetores é:\", resultado)"
      ],
      "metadata": {
        "id": "SDBQwtOGqhCg",
        "colab": {
          "base_uri": "https://localhost:8080/"
        },
        "outputId": "641bfc77-7114-4c99-cc31-8dd3df610b3e"
      },
      "execution_count": null,
      "outputs": [
        {
          "output_type": "stream",
          "name": "stdout",
          "text": [
            "O produto misto entre os três vetores é: 0\n"
          ]
        }
      ]
    }
  ]
}