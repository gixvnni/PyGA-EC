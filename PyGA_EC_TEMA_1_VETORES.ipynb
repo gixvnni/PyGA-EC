{
  "nbformat": 4,
  "nbformat_minor": 0,
  "metadata": {
    "colab": {
      "provenance": [],
      "authorship_tag": "ABX9TyPBwyxSs1VT7BwVH9yCO2TZ",
      "include_colab_link": true
    },
    "kernelspec": {
      "name": "python3",
      "display_name": "Python 3"
    },
    "language_info": {
      "name": "python"
    }
  },
  "cells": [
    {
      "cell_type": "markdown",
      "metadata": {
        "id": "view-in-github",
        "colab_type": "text"
      },
      "source": [
        "<a href=\"https://colab.research.google.com/github/gixvnni/PyGA-EC/blob/main/PyGA_EC_TEMA_1_VETORES.ipynb\" target=\"_parent\"><img src=\"https://colab.research.google.com/assets/colab-badge.svg\" alt=\"Open In Colab\"/></a>"
      ]
    },
    {
      "cell_type": "markdown",
      "source": [
        "#Tema 1 - Vetores - Concluído\n"
      ],
      "metadata": {
        "id": "btUTPttjZXSF"
      }
    },
    {
      "cell_type": "markdown",
      "source": [
        "\n",
        "##Aplicação Geral\n",
        "\n",
        "Na Engenharia Civil, o conceito de vetores desempenha um papel central, permitindo a representação precisa de grandezas que possuem magnitude e direção, como forças, deslocamentos e velocidades. Vetores são essenciais para modelar e resolver problemas em ambientes tridimensionais, comuns em obras e estruturas.\n",
        "Os vetores são amplamente utilizados em diversos contextos práticos, como:\n",
        "\n",
        "\n",
        "1.   Análise de Forças Estruturais, onde se determina as forças atuantes em vigas, pilares e treliças, onde se consideram sua direção e intensidade;\n",
        "2.   Estabilidade de Terrenos, onde se faz uma representação das forças gravitacionais e suas componentes ao longo de superfícies;\n",
        "3.   Projeto de Infraestruturas, com a modelagem de direções de estradas, ferrovias e canais, garantindo alinhamentos adequados e transições suaves;\n",
        "4.   Cálculo de Áreas e Volumes, onde faz-se o uso de vetores para determinar áreas de superfícies e volumes de sólidos, fundamentais em cortes e aterros.\n",
        "\n",
        "\n",
        "#Definição matemática\n",
        "Na Geometria Analítica, vetores são entidades matemáticas que representam grandezas com módulo (comprimento), sentido e direção no espaço. Eles são definidos como segmentos orientados que possuem um ponto inicial e um ponto final, mas são independentes de sua posição, ou seja, são equivalentes desde que tenham a mesmo módulo, e direção. Podemos entender de forma visual como uma flecha que parte de um ponto inicial A (Ax, Ay) para um ponto B (Bx, By), que representaria, por sua vez, o vetor $\\vec{AB}$.\n",
        "\n",
        "\n",
        "###Representações de um vetor no espaço bidimensional (2D):\n",
        "\n",
        "\n",
        "$\\vec{v}$ = (x, y), representado por um par ordenado de números reais;\n",
        "\n",
        "$\\vec{v}$ = (xÎ + yĴ), onde Î e Ĵ são versores, que representam as direções de vetores unitários;\n",
        "\n",
        "$\\vec{v}$ = (a1, a2), onde a1 e a2 são números reais quaisquer.\n",
        "\n",
        "###Representações de um vetor no espaço tridimensional (3D):\n",
        "\n",
        "\n",
        "$\\vec{v}$ = (x, y, z), representado pelas coordenadas no plano tridimensional;\n",
        "\n",
        "$\\vec{v}$ = (xÎ + yĴ + zK̂), onde Î, Ĵ e K̂ são versores, que representam as direções de vetores unitários;\n",
        "\n",
        "$\\vec{v}$ = (a1, a2, a3), onde a1, a2 e a3 são números reais quaisquer.\n",
        "\n",
        "#Demonstração computacional(2D e 3D):"
      ],
      "metadata": {
        "id": "XO3P5L1pqDPL"
      }
    },
    {
      "cell_type": "code",
      "source": [
        "#VETOR NO IR2\n",
        "\n",
        "# Para a representação em python, faz-se o uso da biblioteca \"matplotlib.pyplot\" para a criação do gráfico:\n",
        "\n",
        "import matplotlib.pyplot as plt\n",
        "\n",
        "#Definindo as variáveis x e y:\n",
        "\n",
        "x0 = 0\n",
        "y0 = 0\n",
        "\n",
        "#Amarzenando as variáveis na origem:\n",
        "\n",
        "origem = [x0, y0]\n",
        "\n",
        "#Dando um título ao gráfico:\n",
        "\n",
        "plt.title('Vetor 2D')\n",
        "\n",
        "#Função float, que solicita ao usuário que insira os valores para as componentes x e y do vetor:\n",
        "\n",
        "x = float(input('Digite o valor da componentes x: '))\n",
        "y = float(input('Digite o valor da componentes y: '))\n",
        "\n",
        "#Amarzenando as variáveis na lista (vetor):\n",
        "\n",
        "vetor = [x, y]\n",
        "\n",
        "#Criando os eixos do gráfico:\n",
        "\n",
        "ax = plt.axes()\n",
        "\n",
        "#Limitando os eixos(os valores podem ser editados caso haja necessidade de demonstração de vetores ainda maiores):\n",
        "\n",
        "ax.set_xlim([-4, 4])\n",
        "ax.set_ylim([-4, 4])\n",
        "\n",
        "#O ax.quiver desenha o vetor a partir do ponto de origem (x0, y0) até o ponto (x, y).\n",
        "\n",
        "#O vetor é desenhado na cor vermelha (color='r').\n",
        "\n",
        "#O parâmetro angles='xy' indica que as coordenadas são fornecidas no plano cartesiano.\n",
        "\n",
        "#scale_units='xy', scale=1 define a escala do vetor.\n",
        "\n",
        "ax.quiver(x0, y0, x, y, angles='xy', scale_units='xy', scale=1, color='r')\n",
        "\n",
        "#Exibindo as coordenadas do vetor no ponto final (x, y):\n",
        "\n",
        "ax.annotate(f'v({vetor[0]}, {vetor[1]})', (vetor[0], vetor[1]), fontsize=10)\n",
        "\n",
        "#Desenhando os eixos x e y representado na cor preta:\n",
        "\n",
        "plt.plot([-4, 4], [0, 0], color='black')\n",
        "plt.plot([0, 0], [-4, 4], color='black')\n",
        "\n",
        "#Ativa a grade no fundo do gráfico para facilitar a visualizção:\n",
        "\n",
        "ax.grid(True)"
      ],
      "metadata": {
        "id": "uUZjv1D_qJvd"
      },
      "execution_count": null,
      "outputs": []
    },
    {
      "cell_type": "code",
      "source": [
        "#VETOR NO IR3 - REPRESENTAÇÃO GERAL\n",
        "\n",
        "import matplotlib.pyplot as plt\n",
        "\n",
        "#Função float, que solicita ao usuário que insira os valores para as componentes x, y e z do vetor:\n",
        "\n",
        "x = float(input('Digite o valor da componente x: '))\n",
        "y = float(input('Digite o valor da componente y: '))\n",
        "z = float(input('Digite o valor da componente z: '))\n",
        "\n",
        "vetor = [x, y, z]\n",
        "origem = [0, 0, 0]\n",
        "\n",
        "#Cria uma nova figura para o gráfico 3D:\n",
        "\n",
        "fig = plt.figure()\n",
        "\n",
        "#Título do gráfico:\n",
        "\n",
        "plt.title('Vetor 3D')\n",
        "\n",
        "#Cria um objeto de eixo 3D:\n",
        "\n",
        "ax = plt.axes(projection='3d')\n",
        "\n",
        "#Limitando os eixos:\n",
        "\n",
        "ax.set_xlim([-20, 20])\n",
        "ax.set_ylim([-20, 20])\n",
        "ax.set_zlim([-20, 20])\n",
        "\n",
        "\n",
        "\n",
        "ax.quiver(origem[0], origem[1], origem[2], x, y, z, color='red')"
      ],
      "metadata": {
        "id": "ggPQ9BoVrzBG"
      },
      "execution_count": null,
      "outputs": []
    },
    {
      "cell_type": "markdown",
      "source": [
        "##Operações Simples com vetores\n",
        "\n",
        "##Soma e subtração de vetores: (pág. 20, 21, 22)\n",
        "\n",
        "Para a soma e subtração de vetores, opera-se separadamente cada uma das coordenadas de cada vetor, resultando em um terceiro vetor, conhecido como *vetor soma*, conforme exemplo abaixo:\n",
        "\n",
        "$\\vec{V1}$ = (1, 2, 3)\n",
        "\n",
        "$\\vec{V2}$ = (2, 3, 4)\n",
        "\n",
        "Para soma, temos:\n",
        "\n",
        "$\\vec{V1}$ + $\\vec{V2}$ = ($\\vec{V1}$x + $\\vec{V2}$x, $\\vec{V1}$y + $\\vec{V2}$y, $\\vec{V1}$z + $\\vec{V2}$z)\n",
        "\n",
        "Substituindo os valores, temos:\n",
        "\n",
        "$\\vec{V1}$ + $\\vec{V2}$ = (1 + 2, 2 + 3, 3 + 4) = (3, 5, 7)\n",
        "\n",
        "Enquanto para a subtração, temos:\n",
        "\n",
        "$\\vec{V1}$ - $\\vec{V2}$ = ($\\vec{V1}$x - $\\vec{V2}$x, $\\vec{V1}$y - $\\vec{V2}$y, $\\vec{V1}$z - $\\vec{V2}$z)\n",
        "\n",
        "Substituindo os valores, temos:\n",
        "\n",
        "$\\vec{V1}$ - $\\vec{V2}$ = (1 - 2, 2 - 3, 3 - 4) = (-1, -1, -1)\n",
        "\n",
        "##Multiplicação de um escalar por um vetor: (pág. 22)\n",
        "\n",
        "Quando temos um vetor *$\\vec{v}$* qualquer, que é representado pelas coordenadas ($\\vec{v}$x, $\\vec{v}$y, $\\vec{v}$z), e o multiplicamos por um escalar *a* qualquer, obtemos o seguinte resultado:\n",
        "\n",
        "a . $\\vec{v}$ = a . ($\\vec{v}$x, $\\vec{v}$y, $\\vec{v}$z) = (a . $\\vec{v}$x, a . $\\vec{v}$y, a . $\\vec{v}$z) = (a$\\vec{v}$x, a$\\vec{v}$y a$\\vec{v}$z)\n",
        "\n",
        "Observe que há uma operação *distributiva*, onde o escalar *a* multiplica cada uma das coordenadas separadamente, resultando em um segundo vetor (diferente do primeiro para todo a ≠ 1).\n",
        "\n",
        "Atribuindo valores, temos o seguinte exemplo:\n",
        "\n",
        "$\\vec{v}$ = (1, 2, 3)\n",
        "\n",
        "a = 5\n",
        "\n",
        "Então:\n",
        "\n",
        "a . $\\vec{v}$ = 5 . (1, 2, 3) = (5 . 1, 5 . 2, 5 . 3) = (5, 10, 15)\n",
        "\n",
        "##Módulo (Norma) de um vetor\n",
        "\n",
        "O cálculo do módulo de um vetor tem como objetivo o tamanho do mesmo no espaço.\n",
        "\n",
        "##OBS:\n",
        "Vale salientar que os exemplos demonstrados operam com vetores no espaço IR3 (x, y, z), e tem a mesma lógica de resolução de vetores no espaço IR2 (x, y).\n",
        "\n",
        "\n",
        "\n"
      ],
      "metadata": {
        "id": "uIHpHnkPA9hg"
      }
    },
    {
      "cell_type": "markdown",
      "source": [
        "##Resolução computacional"
      ],
      "metadata": {
        "id": "4PdEjZ-AI6KY"
      }
    },
    {
      "cell_type": "code",
      "source": [
        "#Soma de vetores\n",
        "\n",
        "import numpy as np\n",
        "\n",
        "# Criando vetores:\n",
        "\n",
        "v1 = np.array([1, 2, 3])\n",
        "v2 = np.array([2, 3, 4])\n",
        "\n",
        "# Soma de vetores:\n",
        "\n",
        "soma = v1 + v2\n",
        "\n",
        "print(\"Soma dos vetores é:\", soma)"
      ],
      "metadata": {
        "colab": {
          "base_uri": "https://localhost:8080/"
        },
        "id": "2vGgsxxkI5sY",
        "outputId": "e80e2a3c-a31d-4ee7-eeff-4f03de5273bf"
      },
      "execution_count": null,
      "outputs": [
        {
          "output_type": "stream",
          "name": "stdout",
          "text": [
            "Soma dos vetores é: [3 5 7]\n"
          ]
        }
      ]
    },
    {
      "cell_type": "code",
      "source": [
        "#Subtração de vetores\n",
        "\n",
        "import numpy as np\n",
        "\n",
        "# Criando vetores:\n",
        "\n",
        "v1 = np.array([1, 2, 3])\n",
        "v2 = np.array([2, 3, 4])\n",
        "\n",
        "# Soma de vetores:\n",
        "\n",
        "soma = v1 - v2\n",
        "\n",
        "print(\"Soma dos vetores é:\", soma)"
      ],
      "metadata": {
        "colab": {
          "base_uri": "https://localhost:8080/"
        },
        "id": "7g87pMIkJGUW",
        "outputId": "a86a887a-5f29-428f-d172-3b63ef104cd6"
      },
      "execution_count": null,
      "outputs": [
        {
          "output_type": "stream",
          "name": "stdout",
          "text": [
            "Soma dos vetores é: [-1 -1 -1]\n"
          ]
        }
      ]
    },
    {
      "cell_type": "code",
      "source": [
        "#Multiplicação por um escalar\n",
        "\n",
        "import numpy as np\n",
        "\n",
        "# Criando o vetor:\n",
        "\n",
        "v = np.array([1, 2, 3])\n",
        "\n",
        "# Escalar que desejamos multiplicar:\n",
        "\n",
        "escalar = 5\n",
        "\n",
        "# Multiplicação do vetor (v) por um escalar:\n",
        "\n",
        "resultado = escalar * v\n",
        "\n",
        "print(\"O resultado da multiplicação do vetor (v) pelo escalar é:\", resultado)"
      ],
      "metadata": {
        "colab": {
          "base_uri": "https://localhost:8080/"
        },
        "id": "RIo1a2veJN3G",
        "outputId": "e83aded5-d5f1-4752-8187-e6fb76467e8d"
      },
      "execution_count": null,
      "outputs": [
        {
          "output_type": "stream",
          "name": "stdout",
          "text": [
            "O resultado da multiplicação do vetor (v) pelo escalar é: [ 5 10 15]\n"
          ]
        }
      ]
    },
    {
      "cell_type": "markdown",
      "source": [
        "##Projeção/Decomposição dos componentes de uma força\n",
        "\n",
        "Ao se decompor um vetor em componentes dos eixos, x, y e z, facilita-se a manipulação e análise dos vetores, conforme visto abaixo:\n",
        "\n",
        "$\\vec{v}$ = (1, 5, 9)\n",
        "\n",
        "Quando decomposto, temos:\n",
        "\n",
        "$\\vec{v}$x= 1\n",
        "\n",
        "$\\vec{v}$y= 5\n",
        "\n",
        "$\\vec{v}$z= 9\n",
        "\n"
      ],
      "metadata": {
        "id": "-qjc-mcN1MAB"
      }
    }
  ]
}