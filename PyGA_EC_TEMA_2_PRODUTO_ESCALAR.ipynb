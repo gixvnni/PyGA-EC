{
  "nbformat": 4,
  "nbformat_minor": 0,
  "metadata": {
    "colab": {
      "provenance": [],
      "authorship_tag": "ABX9TyN0ExI2zyO2y39Rne9VrN8j",
      "include_colab_link": true
    },
    "kernelspec": {
      "name": "python3",
      "display_name": "Python 3"
    },
    "language_info": {
      "name": "python"
    }
  },
  "cells": [
    {
      "cell_type": "markdown",
      "metadata": {
        "id": "view-in-github",
        "colab_type": "text"
      },
      "source": [
        "<a href=\"https://colab.research.google.com/github/gixvnni/PyGA-EC/blob/main/PyGA_EC_TEMA_2_PRODUTO_ESCALAR.ipynb\" target=\"_parent\"><img src=\"https://colab.research.google.com/assets/colab-badge.svg\" alt=\"Open In Colab\"/></a>"
      ]
    },
    {
      "cell_type": "markdown",
      "source": [
        "# Tema 2 - Produto Escalar"
      ],
      "metadata": {
        "id": "BDfCKWRgqN90"
      }
    },
    {
      "cell_type": "markdown",
      "source": [
        "##Aplicação Geral\n",
        "\n",
        "\n",
        "O produto escalar é uma operação fundamental na geometria analítica, utilizado em diversas áreas da engenharia civil. Ele permite calcular o ângulo entre dois vetores, determinar projeções e verificar a ortogonalidade de vetores. Essas propriedades são cruciais em aplicações como a análise de forças em estruturas, onde o alinhamento ou oposição entre forças influencia diretamente a estabilidade e o desempenho das edificações. Além disso, o produto escalar é aplicado na modelagem de esforços internos em vigas e pilares, no cálculo de trabalho mecânico e em simulações de fenômenos físicos, como o transporte de materiais e fluidos. Assim, ele se apresenta como uma ferramenta indispensável para otimizar projetos e garantir a segurança e eficiência das construções.\n",
        "\n",
        "\n",
        "\n",
        "##Definição Matemática (pág. 96)\n",
        "\n",
        "\n",
        "O produto escalar é definido como o produto das intensidades entre dois vetores e do cosseno do ângulo theta entre eles, resultando em um número real (escalar).\n",
        "\n",
        "Para a resolução de um produto escalar, faz-se uso de dois métodos principais:\n",
        "\n",
        "##Método Algébrico\n",
        "\n",
        "Para a resolução através do método algébrico, multiplica-se cada coordenada semelhante dos vetores entre si, somando todos o resultados obtidos posteriormente, conseguindo assim um valor escalar final.\n",
        "\n",
        "$\\vec{v}$ = ($\\vec{v}$x, $\\vec{v}$y, $\\vec{v}$z)\n",
        "\n",
        "$\\vec{w}$ = ($\\vec{w}$x, $\\vec{w}$y, $\\vec{w}$z)\n",
        "\n",
        "$\\vec{v}$ . $\\vec{w}$ = ($\\vec{v}$x . $\\vec{w}$x + $\\vec{v}$y . $\\vec{w}$y + $\\vec{v}$z . $\\vec{w}$z)\n",
        "\n",
        "##Método Geométrico\n",
        "\n",
        "Para a resolução através do método geométrico, calcula-se o módulo de cada um dos vetores, multiplicando os resultados com o cosseno do ângulo theta entre os vetores.\n",
        "\n",
        "$\\vec{v}$ = ($\\vec{v}$x, $\\vec{v}$y, $\\vec{v}$z)\n",
        "\n",
        "$\\vec{w}$ = ($\\vec{w}$x, $\\vec{w}$y, $\\vec{w}$z)\n",
        "\n",
        "$\\vec{v}$ . $\\vec{w}$ = |$\\vec{v}$| . |$\\vec{w}$| .  cos(theta)\n",
        "\n",
        "Demonstração visual na figura abaixo:\n",
        "\n",
        "![imagem_2024-12-27_100718876.png](data:image/png;base64,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)\n",
        "\n",
        "\n",
        "**(BEER, Mecânica Vetorial Para Engenheiros - Estática - 9ª Edição, Pág. 96, Capítulo 3.9, Figura 3.19)**\n",
        "\n",
        "\n"
      ],
      "metadata": {
        "id": "m0qc8qI5K1Kf"
      }
    },
    {
      "cell_type": "code",
      "source": [
        "import numpy as np\n",
        "\n",
        "u = [10, 5]\n",
        "v = [7, 5]\n",
        "print(np.dot(u, v))\n",
        "print(np.dot(v, u))"
      ],
      "metadata": {
        "id": "i19sSXgPqOV5",
        "colab": {
          "base_uri": "https://localhost:8080/"
        },
        "outputId": "e44105a1-b3ef-4f11-ee9e-14cc364629bf"
      },
      "execution_count": null,
      "outputs": [
        {
          "output_type": "stream",
          "name": "stdout",
          "text": [
            "95\n",
            "95\n"
          ]
        }
      ]
    },
    {
      "cell_type": "markdown",
      "source": [
        "##Ângulo Entre Vetores (pág. 97)\n",
        "\n",
        "Utilizando a fórmula da resolução geométrica, isola-se o cosseno do ângulo theta, passando o módulo dos vetores para o outro lado da igualdade:\n",
        "\n",
        "cos(theta) =  $\\vec{v}$ . $\\vec{w}$ / |$\\vec{v}$| . |$\\vec{w}$|\n"
      ],
      "metadata": {
        "id": "HpxcJyBuRECE"
      }
    },
    {
      "cell_type": "code",
      "source": [
        "#Como calcular o ângulo entre dois vetores\n",
        "\n",
        "import numpy as np\n",
        "\n",
        "x = 1\n",
        "y = 1\n",
        "z = 4\n",
        "\n",
        "x2 = -1\n",
        "y2 = 2\n",
        "z2 = 2\n",
        "\n",
        "u = [x, y, z]\n",
        "v = [x2, y2, z2]\n",
        "\n",
        "res = x * x2 + y * y2 + z * z2\n",
        "\n",
        "print('O resultado do produto escalar é:', res)\n",
        "\n",
        "mod_u = np.sqrt((x**2 + y**2 + z**2))\n",
        "mod_v = np.sqrt((x2**2 + y2**2 + z2**2))\n",
        "\n",
        "print('O módulo do vetor u é: |u| =', round(mod_u, 2))\n",
        "print('O módulo do vetor v é: |v| =', round(mod_v, 2))\n",
        "\n",
        "cos_ang = res / (mod_u * mod_v)\n",
        "ang_rad = np.arccos(cos_ang)\n",
        "\n",
        "print('O ângulo entre u e v é:', round(ang_rad, 2), 'rad')\n",
        "\n",
        "ang = (ang_rad * 180) / np.pi\n",
        "\n",
        "print('O ângulo entre u e v é:', round(ang, 2), '°')"
      ],
      "metadata": {
        "id": "lg2arRczRu_6",
        "colab": {
          "base_uri": "https://localhost:8080/"
        },
        "outputId": "d971ba20-41bd-4f93-a913-d906a1083a67"
      },
      "execution_count": null,
      "outputs": [
        {
          "output_type": "stream",
          "name": "stdout",
          "text": [
            "O resultado do produto escalar é: 9\n",
            "O módulo do vetor u é: |u| = 4.24\n",
            "O módulo do vetor v é: |v| = 3.0\n",
            "O ângulo entre u e v é: 0.79 rad\n",
            "O ângulo entre u e v é: 45.0 °\n"
          ]
        }
      ]
    },
    {
      "cell_type": "markdown",
      "source": [
        "##Projeção de um vetor sobre outro (pág. 97)"
      ],
      "metadata": {
        "id": "lvlj5a99S5aK"
      }
    },
    {
      "cell_type": "markdown",
      "source": [
        "Consideranto um vetor $\\vec{P}$, que forma um ângulo theta com a linha orientada OL, a projeção de $\\vec{P}$ sobre OL é dada por:\n",
        "\n",
        "Proj. OL = $\\vec{P}$ . cos (theta)\n",
        "\n",
        "\n",
        "\n",
        "![pg97.png](data:image/png;base64,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)\n",
        "\n",
        "\n",
        "**(BEER, Mecânica Vetorial Para Engenheiros - Estática - 9ª Edição, Pág. 96, Capítulo 3.9, Figura 3.21)**\n",
        "\n",
        "\n",
        "A projeção $\\vec{P}$ tem o mesmo valor do comprimento do segmento OA, mas pode ser positiva ou negativa. Ela será positiva se OA estiver na mesma direção do eixo OL, ou seja, quando o ângulo for agudo. Se o ângulo for obtuso, a projeção será negativa.  \n",
        "\n",
        "Se $\\vec{P}$ e OL forem perpendiculares, a projeção de $\\vec{P}$ sobre OL será zero.  \n",
        "\n",
        "![Captura de tela 2025-02-16 152912.png](data:image/png;base64,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)\n",
        "\n",
        "\n",
        "**(BEER, Mecânica Vetorial Para Engenheiros - Estática - 9ª Edição, Pág. 96, Capítulo 3.9, Figura 3.22)**\n",
        "\n",
        "Agora, considere um vetor $\\vec{Q}$ na mesma direção e sentido de OL. O produto escalar entre $\\vec{P}$ e $\\vec{Q}$ pode ser escrito como:\n",
        "\n",
        "$\\vec{P}$ . $\\vec{Q}$ = PQ . cos(θ) = $\\vec{P}$OL . $\\vec{Q}$\n",
        "\n",
        "onde:\n",
        "\n",
        "$\\vec{P}$OL = $\\vec{P}$ . $\\vec{Q}$ / $\\vec{Q}$  =  ($\\vec{P}$x . $\\vec{Q}$x + $\\vec{P}$y . $\\vec{Q}$y+ $\\vec{P}$z . $\\vec{Q}$z) / $\\vec{Q}$\n",
        "\n"
      ],
      "metadata": {
        "id": "RoB5wRu5TEfZ"
      }
    },
    {
      "cell_type": "markdown",
      "source": [
        "Já quando se quer descobrir a projeção do vetor $\\vec{P}$ sobre as coordenadas cartesianas X e Y, utilizam-se as seguintes fórmulas (tomando α como o ângulo entre $\\vec{P}$ e o eixo x):\n",
        "\n",
        "$\\vec{P}$x = |$\\vec{P}$| . cos (α)\n",
        "\n",
        "$\\vec{P}$y = |$\\vec{P}$| . sen (α)\n"
      ],
      "metadata": {
        "id": "OI2Y4DmsDz2e"
      }
    },
    {
      "cell_type": "code",
      "source": [
        "#Decomposição de vetores ao longo dos eixos coordenados:\n",
        "\n",
        "def decomposicao_vetor(vetor):\n",
        "\n",
        "# Componente do vetor ao longo do eixo x:\n",
        "\n",
        "    P_x = vetor[0]\n",
        "\n",
        "# Componente do vetor ao longo do eixo y:\n",
        "\n",
        "    P_y = vetor[1]\n",
        "\n",
        "# Componente do vetor ao longo do eixo z:\n",
        "\n",
        "    P_z = vetor[2]\n",
        "\n",
        "    return P_x, P_y, P_z\n",
        "\n",
        "# Vetor de exemplo:\n",
        "\n",
        "vetor = (1, 1, 4)\n",
        "\n",
        "# Realiza a decomposição do vetor:\n",
        "\n",
        "P_x, P_y, P_z = decomposicao_vetor(vetor)\n",
        "\n",
        "# Resultado das componentes do vetor ao longo dos eixos:\n",
        "\n",
        "print(\"Componente do vetor P ao longo do eixo x:\", P_x)\n",
        "print(\"Componente do vetor P  ao longo do eixo y:\", P_y)\n",
        "print(\"Componente do vetor P  ao longo do eixo z:\", P_z)\n"
      ],
      "metadata": {
        "id": "pTjK8UNW7C3I",
        "outputId": "fa39815e-1649-4190-992f-dcf598aa8f90",
        "colab": {
          "base_uri": "https://localhost:8080/"
        }
      },
      "execution_count": null,
      "outputs": [
        {
          "output_type": "stream",
          "name": "stdout",
          "text": [
            "Componente do vetor P ao longo do eixo x: 1\n",
            "Componente do vetor P  ao longo do eixo y: 1\n",
            "Componente do vetor P  ao longo do eixo z: 4\n"
          ]
        }
      ]
    }
  ]
}